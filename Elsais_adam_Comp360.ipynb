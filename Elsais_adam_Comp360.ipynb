{
  "cells": [
    {
      "cell_type": "markdown",
      "metadata": {
        "id": "view-in-github",
        "colab_type": "text"
      },
      "source": [
        "<a href=\"https://colab.research.google.com/github/adamelsais/projects/blob/main/Elsais_adam_Comp360.ipynb\" target=\"_parent\"><img src=\"https://colab.research.google.com/assets/colab-badge.svg\" alt=\"Open In Colab\"/></a>"
      ]
    },
    {
      "cell_type": "markdown",
      "metadata": {
        "id": "vbpzSgTFfQ8l"
      },
      "source": [
        "# Project Layout  \n",
        "\n",
        "### Summary: Empowering Stock Market Investors\n",
        "\n",
        "* **Objective:** Simplify stock market investing for new/casual investors, fostering confidence in understanding market sentiment (bullish/bearish trends).\n",
        "\n",
        "* **Approach:** Utilize S&P 500 component stocks to predict movements in the SPY ETF, a key indicator of market sentiment.\n",
        "\n",
        "* **Goals:**\n",
        "\n",
        " * Implement parallelization and optimization techniques for efficient processing.\n",
        " * Develop a stock price predictor focused on the SPY ETF for accurate market trend forecasting.\n",
        " * Create intuitive visualizations to enhance users' confidence and understanding.\n",
        " * By combining data analysis, predictive modeling, and user-friendly visuals, our project aims to equip investors with the tools and insights needed to navigate the stock market with confidence.\n",
        "\n",
        "\n",
        "---\n",
        "\n",
        "\n",
        "###Webscrape:\n",
        "We will webscrape the list of S&P 500 component stocks from Wikipedia so we can have all the Ticker symbols in one dataframe.Only scraping and storing the ticker symbols.\n",
        "\n",
        "---\n",
        "\n",
        "### Collect Data:\n",
        "We will use yfinance library to access Yahoo's publicly available APIs. We will iterate through all the Ticker symbols we previously collected, and store each stock's historical data in one dataframe. We will utilize joblib to parallelize fetching the data in order to promote speedup.\n",
        "\n",
        "---\n",
        "\n",
        "### Clean Data:\n",
        "We will need to add to the dataframe whether the S&P 500 was bearish/bullish on that day, as well as if the individual stock was. We will do this by comparing the previous trading day's Close price to the next day's. Make a Target column which will be a Bool (0 or 1) to decide if we should invest in the S&P 500. Other parts of cleaning our data is giving each DataFrame a name, and making sure our spy df has a 'Dates' column.\n",
        "\n",
        "---\n",
        "\n",
        "### Machine Learning Models:\n",
        "1. Model 1: Bull/Bear\n",
        "  * Main model and goal of this project is to determine whether or not we can use the S&P 500 component stocks to accurately predict whether SPY is bullish or bearish, which also can help us predict the overall stock market.\n",
        "  * We will use a Random Forest Classification Machine Learning Model, where we parallelize our model with every single ticker.\n",
        "  * Our first usage is the S&P 500 component stocks: where we ultimately want to see the average accuracy for all 500 stocks.\n",
        "  * Our second usage is purely with the SPY ETF: where we return the accuracy.\n",
        "  * We can compared how accurate our model is at predicting the two and can determine how confident we can be using our model.\n",
        "2. Model 2: Price Prediction\n",
        "  * A model that we decided to try out for the fun of it. We will utilize a LSTM ML model that will be able to predict a stock's price during a given time period.\n",
        "  * The model essentially prepares historical data, creates a windowed dataset for training, builds and trains an LSTM-based model for predicting the SPY ETF price, and evaluates the model's performance using different datasets.\n",
        "\n",
        "---\n",
        "\n",
        "###Visualizations:\n",
        "1. Model 1: Bull/Bear -\n",
        "* SPY accuracy Bar Chart:\n",
        "  * The proportion_graph function calculates and compares the proportions of two categories (Bull/Bear) between actual and predicted values in a DataFrame.\n",
        "  * Creates a grouped bar chart to visualize this comparison, with labels for categories, proportions on the y-axis, and a title indicating the comparison.\n",
        "  * The function provides a clear visual representation of how well the predictions align with the actual data, aiding in evaluating the model's performance in predicting market sentiment.\n",
        "\n",
        "\n",
        "2. Model 2: Price Prediction -\n",
        "* Training Predictions vs. Observations:\n",
        "\n",
        "  *   Plots the model's predictions and the actual observed values for the training dataset.\n",
        "  *   Helps visualize how well the model fits the training data.\n",
        "\n",
        "* Validation Predictions vs. Observations:\n",
        "\n",
        "  * Displays the model's predictions and the actual observed values for the validation dataset.\n",
        "  * Aids in understanding the model's generalization performance on unseen\n",
        "  \n",
        "* Testing Predictions vs. Observations:\n",
        "\n",
        "  * Shows the model's predictions and the actual observed values for the testing dataset.\n",
        "  * Assists in assessing the model's predictive accuracy on completely new, unseen data (testing set).\n",
        "\n",
        "* Combined Plot:\n",
        "\n",
        "  * Combines the training, validation, and testing predictions and observations into a single plot.\n",
        "  * Offers a comparative view of how well the model performs across different datasets.\n"
      ]
    },
    {
      "cell_type": "markdown",
      "source": [
        "## Libraries needed"
      ],
      "metadata": {
        "id": "Ssbf4Xb3cDoZ"
      }
    },
    {
      "cell_type": "code",
      "execution_count": 1,
      "metadata": {
        "id": "AaNnsmygxXDz"
      },
      "outputs": [],
      "source": [
        "# import all libraries\n",
        "# webscrape libraries\n",
        "import bs4 as bs # pulling data out of HTML and XML files.\n",
        "import urllib.request # opening and reading URLs\n",
        "import requests\n",
        "import re # pattern matching\n",
        "import pandas as pd\n",
        "import numpy as np\n",
        "from time import sleep\n",
        "import requests\n",
        "# data libraries\n",
        "import yfinance as yf\n",
        "from joblib import Parallel, delayed\n",
        "import time\n",
        "import datetime\n",
        "# metric libraries\n",
        "from sklearn.ensemble import RandomForestClassifier\n",
        "import sklearn.model_selection as ms\n",
        "from sklearn.metrics import classification_report, confusion_matrix, ConfusionMatrixDisplay, accuracy_score, precision_score, recall_score, f1_score\n",
        "from sklearn.svm import SVC\n",
        "import matplotlib.pyplot as plt\n",
        "from sklearn.pipeline import Pipeline\n",
        "from sklearn.model_selection import train_test_split\n",
        "from sklearn import metrics\n",
        "from tensorflow.keras.models import Sequential\n",
        "from tensorflow.keras.optimizers import Adam\n",
        "from tensorflow.keras import layers\n"
      ]
    },
    {
      "cell_type": "markdown",
      "metadata": {
        "id": "1PR-gDmoOmmU"
      },
      "source": [
        "##Web scrape\n",
        "\n",
        "Purely webscrape the Tickers of the SPY component stocks"
      ]
    },
    {
      "cell_type": "code",
      "source": [
        "#  URL of the Wikipedia page containing the S&P 500 component stocks\n",
        "url = \"https://en.wikipedia.org/wiki/List_of_S%26P_500_companies\"\n",
        "\n",
        "# Fetch the HTML content of the page\n",
        "response = requests.get(url)\n",
        "soup = bs.BeautifulSoup(response.text, 'html.parser')\n",
        "\n",
        "# Find the table containing the S&P 500 component stocks\n",
        "table = soup.find('table', {'class': 'wikitable sortable'})\n",
        "\n",
        "# Extract only ticker symbols from the table and store them in a list\n",
        "ticker_symbols = []\n",
        "rows = table.find_all('tr')\n",
        "for row in rows[1:]:  # Skip the header row\n",
        "    cols = row.find_all('td')\n",
        "    ticker_symbols.append(cols[0].text.strip())\n",
        "\n",
        "# Create a Pandas DataFrame from the ticker symbols list\n",
        "sp500_tickers_df = pd.DataFrame({'Ticker': ticker_symbols})\n"
      ],
      "metadata": {
        "id": "4cAkb2tebnn_"
      },
      "execution_count": 2,
      "outputs": []
    },
    {
      "cell_type": "markdown",
      "metadata": {
        "id": "RHNfw6SAOwSY"
      },
      "source": [
        "## Data Collection\n"
      ]
    },
    {
      "cell_type": "code",
      "execution_count": 3,
      "metadata": {
        "colab": {
          "base_uri": "https://localhost:8080/",
          "height": 0
        },
        "id": "ofGSDnluc9m0",
        "outputId": "f3d0c321-93c2-41c2-8deb-179862ec30e5"
      },
      "outputs": [
        {
          "output_type": "stream",
          "name": "stderr",
          "text": [
            "\r[*********************100%%**********************]  1 of 1 completed\n"
          ]
        }
      ],
      "source": [
        "# SPY ETF data from yfinance in its own Dataframe\n",
        "\n",
        "spy = yf.download(\"SPY\",start=\"1993-01-29\") # date is when SPY was initialized in the market\n"
      ]
    },
    {
      "cell_type": "code",
      "execution_count": 4,
      "metadata": {
        "id": "0P5bB9nAqJwp"
      },
      "outputs": [],
      "source": [
        "# parallelize stock data collection\n",
        "def fetch_data(ticker):\n",
        "    #print(f\"Fetching data for {ticker}...\")\n",
        "    data = yf.download(ticker, start=\"1993-01-29\")\n",
        "    if not data.empty:\n",
        "        data['Ticker'] = ticker\n",
        "    return data\n"
      ]
    },
    {
      "cell_type": "code",
      "execution_count": 5,
      "metadata": {
        "colab": {
          "base_uri": "https://localhost:8080/",
          "height": 0
        },
        "id": "84C2DcOKEb4g",
        "outputId": "8403f232-6a6c-4495-f9fb-5d38123b98c3"
      },
      "outputs": [
        {
          "output_type": "stream",
          "name": "stderr",
          "text": [
            "/usr/local/lib/python3.10/dist-packages/joblib/externals/loky/backend/fork_exec.py:38: RuntimeWarning: os.fork() was called. os.fork() is incompatible with multithreaded code, and JAX is multithreaded, so this will likely lead to a deadlock.\n",
            "  pid = os.fork()\n"
          ]
        }
      ],
      "source": [
        "# Parallel: fetch_data\n",
        "\n",
        "# Parallelize data fetching\n",
        "data_frames = Parallel(n_jobs=-1)(\n",
        "    delayed(fetch_data)(ticker) for ticker in sp500_tickers_df['Ticker']\n",
        ")\n",
        "\n",
        "\n",
        "# Concatenate all individual DataFrames into a single DataFrame\n",
        "all_data_parallel = pd.concat(data_frames)\n",
        "\n",
        "# Reset index for the final DataFrame\n",
        "all_data_parallel.reset_index(inplace=True)\n"
      ]
    },
    {
      "cell_type": "markdown",
      "metadata": {
        "id": "nBNJ9WRDO2cM"
      },
      "source": [
        "## Clean Data\n",
        "\n",
        "\n",
        "*   Add new column in our dataframe: Bull/Bear\n",
        "  *   We will use the previous trading day's closing price and compare it with the current day's closing price.\n",
        "  * This will be a bool value of 0 or 1\n",
        "\n",
        "1. Smooths Out Intraday Volatility: By focusing on\n",
        "closing prices, we are looking at the overall movement of the stock throughout the entire trading day, which can help smooth out the effects of intraday volatility.\n",
        "2. Reflects Investor Sentiment Over Time: Changes in closing prices over consecutive days can reflect shifts in investor sentiment, buying or selling pressure, and overall market trends more accurately than just comparing opening and closing prices within a single day.\n",
        "3. Considers After-Hours Trading: After-hours trading can impact opening prices, but it doesn't affect closing prices from one day to the next. Therefore, comparing closing prices avoids the influence of after-hours trading on your analysis.\n",
        "4. Widely Accepted Practice: Many technical analysts and traders use daily closing prices as key data points for their analysis, making it a widely accepted and practiced method.\n",
        "\n",
        "\n"
      ]
    },
    {
      "cell_type": "code",
      "execution_count": 6,
      "metadata": {
        "id": "IHhajKRBO6uU"
      },
      "outputs": [],
      "source": [
        "# Add new column to our dataframe\n",
        "def add_bull_bear_col(df, close_column='Close'):\n",
        "    \"\"\"\n",
        "    Add a 'bull/bear' column to the DataFrame based on the difference\n",
        "    between the current day's close and the previous day's close.\n",
        "\n",
        "    Parameters:\n",
        "    df (DataFrame): Input DataFrame containing the 'Close' column.\n",
        "    close_column (str): Name of the column containing closing prices.\n",
        "\n",
        "    Returns:\n",
        "    DataFrame: Updated DataFrame with the 'bull/bear' column added.\n",
        "    \"\"\"\n",
        "    # Calculate the difference between current day's close and previous day's close\n",
        "    df['Close_diff'] = df[close_column].diff()\n",
        "\n",
        "    # Add a new column 'bull/bear' with 0 or 1 based on the difference\n",
        "    df['Bull/Bear'] = (df['Close_diff'] > 0).astype(int)\n",
        "\n",
        "    # Drop the 'Close_diff' column if not needed\n",
        "    #df.drop('Close_diff', axis=1, inplace=True)\n",
        "\n",
        "\n",
        "    return df"
      ]
    },
    {
      "cell_type": "code",
      "execution_count": 7,
      "metadata": {
        "id": "VALhqTtYRNnU"
      },
      "outputs": [],
      "source": [
        "# add_bull_bear_col with our S&P 500 component stock data\n",
        "all_data = add_bull_bear_col(all_data_parallel)\n",
        "\n",
        "all_data.name = 'all_data'"
      ]
    },
    {
      "cell_type": "code",
      "execution_count": 8,
      "metadata": {
        "id": "nq_sCvf3SMxx"
      },
      "outputs": [],
      "source": [
        "# test with our SPY data\n",
        "spy = add_bull_bear_col(spy)\n",
        "# needed to add this for changes in my model to perform visualizations\n",
        "spy['Ticker'] = 'SPY'\n",
        "spy['Dates'] = spy[spy['Ticker'] == \"SPY\"].index[:]\n",
        "spy.name = 'spy'"
      ]
    },
    {
      "cell_type": "code",
      "execution_count": 9,
      "metadata": {
        "colab": {
          "base_uri": "https://localhost:8080/",
          "height": 206
        },
        "id": "1L9Sxc6zNmZJ",
        "outputId": "d5ac1b38-1419-4a2b-e31e-e60577ab8fe2"
      },
      "outputs": [
        {
          "output_type": "execute_result",
          "data": {
            "text/plain": [
              "  Ticker\n",
              "0    MMM\n",
              "1    AOS\n",
              "2    ABT\n",
              "3   ABBV\n",
              "4    ACN"
            ],
            "text/html": [
              "\n",
              "  <div id=\"df-4bf8acec-e490-417a-8739-e53e0aa232e4\" class=\"colab-df-container\">\n",
              "    <div>\n",
              "<style scoped>\n",
              "    .dataframe tbody tr th:only-of-type {\n",
              "        vertical-align: middle;\n",
              "    }\n",
              "\n",
              "    .dataframe tbody tr th {\n",
              "        vertical-align: top;\n",
              "    }\n",
              "\n",
              "    .dataframe thead th {\n",
              "        text-align: right;\n",
              "    }\n",
              "</style>\n",
              "<table border=\"1\" class=\"dataframe\">\n",
              "  <thead>\n",
              "    <tr style=\"text-align: right;\">\n",
              "      <th></th>\n",
              "      <th>Ticker</th>\n",
              "    </tr>\n",
              "  </thead>\n",
              "  <tbody>\n",
              "    <tr>\n",
              "      <th>0</th>\n",
              "      <td>MMM</td>\n",
              "    </tr>\n",
              "    <tr>\n",
              "      <th>1</th>\n",
              "      <td>AOS</td>\n",
              "    </tr>\n",
              "    <tr>\n",
              "      <th>2</th>\n",
              "      <td>ABT</td>\n",
              "    </tr>\n",
              "    <tr>\n",
              "      <th>3</th>\n",
              "      <td>ABBV</td>\n",
              "    </tr>\n",
              "    <tr>\n",
              "      <th>4</th>\n",
              "      <td>ACN</td>\n",
              "    </tr>\n",
              "  </tbody>\n",
              "</table>\n",
              "</div>\n",
              "    <div class=\"colab-df-buttons\">\n",
              "\n",
              "  <div class=\"colab-df-container\">\n",
              "    <button class=\"colab-df-convert\" onclick=\"convertToInteractive('df-4bf8acec-e490-417a-8739-e53e0aa232e4')\"\n",
              "            title=\"Convert this dataframe to an interactive table.\"\n",
              "            style=\"display:none;\">\n",
              "\n",
              "  <svg xmlns=\"http://www.w3.org/2000/svg\" height=\"24px\" viewBox=\"0 -960 960 960\">\n",
              "    <path d=\"M120-120v-720h720v720H120Zm60-500h600v-160H180v160Zm220 220h160v-160H400v160Zm0 220h160v-160H400v160ZM180-400h160v-160H180v160Zm440 0h160v-160H620v160ZM180-180h160v-160H180v160Zm440 0h160v-160H620v160Z\"/>\n",
              "  </svg>\n",
              "    </button>\n",
              "\n",
              "  <style>\n",
              "    .colab-df-container {\n",
              "      display:flex;\n",
              "      gap: 12px;\n",
              "    }\n",
              "\n",
              "    .colab-df-convert {\n",
              "      background-color: #E8F0FE;\n",
              "      border: none;\n",
              "      border-radius: 50%;\n",
              "      cursor: pointer;\n",
              "      display: none;\n",
              "      fill: #1967D2;\n",
              "      height: 32px;\n",
              "      padding: 0 0 0 0;\n",
              "      width: 32px;\n",
              "    }\n",
              "\n",
              "    .colab-df-convert:hover {\n",
              "      background-color: #E2EBFA;\n",
              "      box-shadow: 0px 1px 2px rgba(60, 64, 67, 0.3), 0px 1px 3px 1px rgba(60, 64, 67, 0.15);\n",
              "      fill: #174EA6;\n",
              "    }\n",
              "\n",
              "    .colab-df-buttons div {\n",
              "      margin-bottom: 4px;\n",
              "    }\n",
              "\n",
              "    [theme=dark] .colab-df-convert {\n",
              "      background-color: #3B4455;\n",
              "      fill: #D2E3FC;\n",
              "    }\n",
              "\n",
              "    [theme=dark] .colab-df-convert:hover {\n",
              "      background-color: #434B5C;\n",
              "      box-shadow: 0px 1px 3px 1px rgba(0, 0, 0, 0.15);\n",
              "      filter: drop-shadow(0px 1px 2px rgba(0, 0, 0, 0.3));\n",
              "      fill: #FFFFFF;\n",
              "    }\n",
              "  </style>\n",
              "\n",
              "    <script>\n",
              "      const buttonEl =\n",
              "        document.querySelector('#df-4bf8acec-e490-417a-8739-e53e0aa232e4 button.colab-df-convert');\n",
              "      buttonEl.style.display =\n",
              "        google.colab.kernel.accessAllowed ? 'block' : 'none';\n",
              "\n",
              "      async function convertToInteractive(key) {\n",
              "        const element = document.querySelector('#df-4bf8acec-e490-417a-8739-e53e0aa232e4');\n",
              "        const dataTable =\n",
              "          await google.colab.kernel.invokeFunction('convertToInteractive',\n",
              "                                                    [key], {});\n",
              "        if (!dataTable) return;\n",
              "\n",
              "        const docLinkHtml = 'Like what you see? Visit the ' +\n",
              "          '<a target=\"_blank\" href=https://colab.research.google.com/notebooks/data_table.ipynb>data table notebook</a>'\n",
              "          + ' to learn more about interactive tables.';\n",
              "        element.innerHTML = '';\n",
              "        dataTable['output_type'] = 'display_data';\n",
              "        await google.colab.output.renderOutput(dataTable, element);\n",
              "        const docLink = document.createElement('div');\n",
              "        docLink.innerHTML = docLinkHtml;\n",
              "        element.appendChild(docLink);\n",
              "      }\n",
              "    </script>\n",
              "  </div>\n",
              "\n",
              "\n",
              "<div id=\"df-8d37da36-0e6e-4a6c-b7a3-b588291b8e78\">\n",
              "  <button class=\"colab-df-quickchart\" onclick=\"quickchart('df-8d37da36-0e6e-4a6c-b7a3-b588291b8e78')\"\n",
              "            title=\"Suggest charts\"\n",
              "            style=\"display:none;\">\n",
              "\n",
              "<svg xmlns=\"http://www.w3.org/2000/svg\" height=\"24px\"viewBox=\"0 0 24 24\"\n",
              "     width=\"24px\">\n",
              "    <g>\n",
              "        <path d=\"M19 3H5c-1.1 0-2 .9-2 2v14c0 1.1.9 2 2 2h14c1.1 0 2-.9 2-2V5c0-1.1-.9-2-2-2zM9 17H7v-7h2v7zm4 0h-2V7h2v10zm4 0h-2v-4h2v4z\"/>\n",
              "    </g>\n",
              "</svg>\n",
              "  </button>\n",
              "\n",
              "<style>\n",
              "  .colab-df-quickchart {\n",
              "      --bg-color: #E8F0FE;\n",
              "      --fill-color: #1967D2;\n",
              "      --hover-bg-color: #E2EBFA;\n",
              "      --hover-fill-color: #174EA6;\n",
              "      --disabled-fill-color: #AAA;\n",
              "      --disabled-bg-color: #DDD;\n",
              "  }\n",
              "\n",
              "  [theme=dark] .colab-df-quickchart {\n",
              "      --bg-color: #3B4455;\n",
              "      --fill-color: #D2E3FC;\n",
              "      --hover-bg-color: #434B5C;\n",
              "      --hover-fill-color: #FFFFFF;\n",
              "      --disabled-bg-color: #3B4455;\n",
              "      --disabled-fill-color: #666;\n",
              "  }\n",
              "\n",
              "  .colab-df-quickchart {\n",
              "    background-color: var(--bg-color);\n",
              "    border: none;\n",
              "    border-radius: 50%;\n",
              "    cursor: pointer;\n",
              "    display: none;\n",
              "    fill: var(--fill-color);\n",
              "    height: 32px;\n",
              "    padding: 0;\n",
              "    width: 32px;\n",
              "  }\n",
              "\n",
              "  .colab-df-quickchart:hover {\n",
              "    background-color: var(--hover-bg-color);\n",
              "    box-shadow: 0 1px 2px rgba(60, 64, 67, 0.3), 0 1px 3px 1px rgba(60, 64, 67, 0.15);\n",
              "    fill: var(--button-hover-fill-color);\n",
              "  }\n",
              "\n",
              "  .colab-df-quickchart-complete:disabled,\n",
              "  .colab-df-quickchart-complete:disabled:hover {\n",
              "    background-color: var(--disabled-bg-color);\n",
              "    fill: var(--disabled-fill-color);\n",
              "    box-shadow: none;\n",
              "  }\n",
              "\n",
              "  .colab-df-spinner {\n",
              "    border: 2px solid var(--fill-color);\n",
              "    border-color: transparent;\n",
              "    border-bottom-color: var(--fill-color);\n",
              "    animation:\n",
              "      spin 1s steps(1) infinite;\n",
              "  }\n",
              "\n",
              "  @keyframes spin {\n",
              "    0% {\n",
              "      border-color: transparent;\n",
              "      border-bottom-color: var(--fill-color);\n",
              "      border-left-color: var(--fill-color);\n",
              "    }\n",
              "    20% {\n",
              "      border-color: transparent;\n",
              "      border-left-color: var(--fill-color);\n",
              "      border-top-color: var(--fill-color);\n",
              "    }\n",
              "    30% {\n",
              "      border-color: transparent;\n",
              "      border-left-color: var(--fill-color);\n",
              "      border-top-color: var(--fill-color);\n",
              "      border-right-color: var(--fill-color);\n",
              "    }\n",
              "    40% {\n",
              "      border-color: transparent;\n",
              "      border-right-color: var(--fill-color);\n",
              "      border-top-color: var(--fill-color);\n",
              "    }\n",
              "    60% {\n",
              "      border-color: transparent;\n",
              "      border-right-color: var(--fill-color);\n",
              "    }\n",
              "    80% {\n",
              "      border-color: transparent;\n",
              "      border-right-color: var(--fill-color);\n",
              "      border-bottom-color: var(--fill-color);\n",
              "    }\n",
              "    90% {\n",
              "      border-color: transparent;\n",
              "      border-bottom-color: var(--fill-color);\n",
              "    }\n",
              "  }\n",
              "</style>\n",
              "\n",
              "  <script>\n",
              "    async function quickchart(key) {\n",
              "      const quickchartButtonEl =\n",
              "        document.querySelector('#' + key + ' button');\n",
              "      quickchartButtonEl.disabled = true;  // To prevent multiple clicks.\n",
              "      quickchartButtonEl.classList.add('colab-df-spinner');\n",
              "      try {\n",
              "        const charts = await google.colab.kernel.invokeFunction(\n",
              "            'suggestCharts', [key], {});\n",
              "      } catch (error) {\n",
              "        console.error('Error during call to suggestCharts:', error);\n",
              "      }\n",
              "      quickchartButtonEl.classList.remove('colab-df-spinner');\n",
              "      quickchartButtonEl.classList.add('colab-df-quickchart-complete');\n",
              "    }\n",
              "    (() => {\n",
              "      let quickchartButtonEl =\n",
              "        document.querySelector('#df-8d37da36-0e6e-4a6c-b7a3-b588291b8e78 button');\n",
              "      quickchartButtonEl.style.display =\n",
              "        google.colab.kernel.accessAllowed ? 'block' : 'none';\n",
              "    })();\n",
              "  </script>\n",
              "</div>\n",
              "    </div>\n",
              "  </div>\n"
            ],
            "application/vnd.google.colaboratory.intrinsic+json": {
              "type": "dataframe",
              "variable_name": "sp500_tickers_df",
              "summary": "{\n  \"name\": \"sp500_tickers_df\",\n  \"rows\": 501,\n  \"fields\": [\n    {\n      \"column\": \"Ticker\",\n      \"properties\": {\n        \"dtype\": \"string\",\n        \"num_unique_values\": 501,\n        \"samples\": [\n          \"PH\",\n          \"BMY\",\n          \"PPG\"\n        ],\n        \"semantic_type\": \"\",\n        \"description\": \"\"\n      }\n    }\n  ]\n}"
            }
          },
          "metadata": {},
          "execution_count": 9
        }
      ],
      "source": [
        "# update ticker only df that matches all tickers in yfinance dataset\n",
        "\n",
        "sp500_tickers_df = pd.DataFrame({'Ticker': all_data[\"Ticker\"]})\n",
        "\n",
        "# Get unique tickers using the unique method\n",
        "unique_tickers = sp500_tickers_df['Ticker'].unique()\n",
        "\n",
        "# Convert unique_tickers array to a DataFrame\n",
        "sp500_tickers_df = pd.DataFrame({'Ticker': unique_tickers})\n",
        "\n",
        "# Display the unique tickers\n",
        "sp500_tickers_df.head()"
      ]
    },
    {
      "cell_type": "markdown",
      "metadata": {
        "id": "0LkrTxXVNvbg"
      },
      "source": [
        "##My ML models\n",
        "\n",
        "* Model 1: Bull/Bear\n",
        "* Model 2: Price Prediction\n"
      ]
    },
    {
      "cell_type": "markdown",
      "source": [
        "###Model 1 (Main): Bull/Bear\n",
        "\n",
        "Uses selected features ('Open', 'High', 'Low', 'Close', 'Adj Close', 'Volume') to predict 'Bull/Bear' of a stock.\n",
        "\n",
        "model_setup: helper function to process_ticker; either uses a specific stock or the SPY ETF\n",
        "\n",
        "process_ticker is our actual model function which uses the parameters: ticker, all_data. Processes a RandomForestClassifier model for the ticker within the all_data df.\n",
        "\n",
        "We then parallelize this process using joblib's Parallel and go through all the tickers within the all_data df.\n",
        "\n",
        "Returns accuracy score and classification report\n",
        "\n",
        "Works fairly well\n"
      ],
      "metadata": {
        "id": "NUvoSqZXDtAr"
      }
    },
    {
      "cell_type": "code",
      "execution_count": 10,
      "metadata": {
        "id": "fwp8d_3CV144"
      },
      "outputs": [],
      "source": [
        "# general feature selection\n",
        "selected_features = ['Open', 'High', 'Low', 'Close', 'Adj Close', 'Volume']\n",
        "def select_features(df):\n",
        "  return df[selected_features]"
      ]
    },
    {
      "cell_type": "code",
      "execution_count": 11,
      "metadata": {
        "id": "J8PddP6kWWAG"
      },
      "outputs": [],
      "source": [
        "def model_setup(ticker, stock_df):\n",
        "  one_stock = stock_df[stock_df['Ticker'] == ticker]\n",
        "  X = select_features(one_stock)\n",
        "  y = one_stock['Bull/Bear']\n",
        "  return X, y\n"
      ]
    },
    {
      "cell_type": "code",
      "execution_count": 12,
      "metadata": {
        "id": "wqr6f4QOQFH6"
      },
      "outputs": [],
      "source": [
        "# Define a function to process each ticker in parallel\n",
        "def process_ticker(ticker:str, df: pd.DataFrame, df_name: str):\n",
        "    # Generate features (X) and labels (y) using model_setup function\n",
        "    X, y = model_setup(ticker, df)\n",
        "\n",
        "    # Split training and testing data\n",
        "    X_train, X_test, y_train, y_test = train_test_split(X, y, test_size=0.2, random_state=42)\n",
        "\n",
        "    # Define the pipeline with RandomForestClassifier\n",
        "    spy_clf = Pipeline([('clf', RandomForestClassifier(random_state=5))])\n",
        "\n",
        "    # Fit the pipeline on the training data\n",
        "    spy_clf.fit(X_train, y_train)\n",
        "\n",
        "    # Apply the trained model to the test data\n",
        "    predicted = spy_clf.predict(X_test)\n",
        "    if df_name == 'spy':\n",
        "      # Get the dates for the test data\n",
        "      dates_test = spy[\"Dates\"][-len(y_test):]\n",
        "\n",
        "      # Create a new DataFrame with the predicted values and dates\n",
        "      predicted_df = pd.DataFrame({'Dates': dates_test, 'Predicted_Bull_Bear': predicted})\n",
        "\n",
        "      # Merge the DataFrames based on the \"Dates\" column\n",
        "      merged_df = pd.merge(spy, predicted_df, on=['Dates'], how='left')\n",
        "\n",
        "      return ticker, metrics.accuracy_score(y_test, predicted), metrics.classification_report(y_test, predicted), merged_df\n",
        "    else:\n",
        "\n",
        "      # Return the ticker symbol and evaluation results\n",
        "      return ticker, metrics.accuracy_score(y_test, predicted), metrics.classification_report(y_test, predicted)\n",
        "\n",
        "\n"
      ]
    },
    {
      "cell_type": "code",
      "source": [
        "# Define the list of tickers to process\n",
        "tickers_list = sp500_tickers_df[\"Ticker\"].tolist()\n",
        "\n",
        "len(tickers_list)"
      ],
      "metadata": {
        "colab": {
          "base_uri": "https://localhost:8080/",
          "height": 0
        },
        "id": "9MdiBjYsfCpn",
        "outputId": "cba58f4e-fd8e-4d86-8717-d7cbc2a72ec2"
      },
      "execution_count": 13,
      "outputs": [
        {
          "output_type": "execute_result",
          "data": {
            "text/plain": [
              "501"
            ]
          },
          "metadata": {},
          "execution_count": 13
        }
      ]
    },
    {
      "cell_type": "markdown",
      "source": [
        "####S&P 500 Component Stocks\n",
        "\n",
        "Created a faster way of processing each ticker in parallel. Created batches of 10 tickers; total 51 batches; totaling 501 stocks. Before we just ran our 'results', which could not even finish running."
      ],
      "metadata": {
        "id": "09jbU-IhmktV"
      }
    },
    {
      "cell_type": "code",
      "source": [
        "batch_size = 10\n",
        "\n",
        "# Calculate the number of batches\n",
        "num_batches = len(tickers_list) // batch_size\n",
        "if len(tickers_list) % batch_size != 0:\n",
        "    num_batches += 1\n",
        "\n",
        "# Function to process a batch of tickers\n",
        "def process_batch(batch_num):\n",
        "    start_idx = batch_num * batch_size\n",
        "    end_idx = min((batch_num + 1) * batch_size, len(tickers_list))\n",
        "    batch_tickers = tickers_list[start_idx:end_idx]\n",
        "    results = Parallel(n_jobs=-1)(\n",
        "        delayed(process_ticker)(ticker, all_data, all_data.name) for ticker in batch_tickers\n",
        "    )\n",
        "    return results\n",
        "\n",
        "# Process batches in parallel\n",
        "all_results = []\n",
        "for batch_num in range(num_batches):\n",
        "    batch_results = process_batch(batch_num)\n",
        "    all_results.extend(batch_results)\n",
        "\n",
        "# At this point, all_results contains the results from processing all tickers in batches"
      ],
      "metadata": {
        "id": "ro1NyzbNf_Bj"
      },
      "execution_count": 14,
      "outputs": []
    },
    {
      "cell_type": "code",
      "source": [
        "all_accuracy = [result[1] for result in all_results]\n",
        "\n",
        "# Print all_accuracy\n",
        "print(all_accuracy)"
      ],
      "metadata": {
        "colab": {
          "base_uri": "https://localhost:8080/",
          "height": 0
        },
        "id": "MYxS9tH1lW7M",
        "outputId": "235665ff-e77f-4665-bc5d-3eda86ffc6c6"
      },
      "execution_count": 15,
      "outputs": [
        {
          "output_type": "stream",
          "name": "stdout",
          "text": [
            "[0.7373096446700508, 0.7753807106598984, 0.7277918781725888, 0.6993006993006993, 0.6594076655052264, 0.7550761421319797, 0.7658629441624365, 0.7937817258883249, 0.7182741116751269, 0.7337662337662337, 0.7024111675126904, 0.7267441860465116, 0.7578947368421053, 0.7549277266754271, 0.7501842299189388, 0.7448805460750854, 0.7178030303030303, 0.7493654822335025, 0.7472738935214881, 0.721327967806841, 0.6971830985915493, 0.7373096446700508, 0.7255334805003679, 0.8327814569536424, 0.7528259231348907, 0.7707889125799574, 0.7734771573604061, 0.7208121827411168, 0.748730964467005, 0.7172100075815011, 0.715698393077874, 0.7148936170212766, 0.7227157360406091, 0.7493654822335025, 0.7093908629441624, 0.7455583756345178, 0.7594306049822064, 0.7436548223350253, 0.7728426395939086, 0.7265228426395939, 0.7595177664974619, 0.6878980891719745, 0.7172557172557172, 0.7696700507614214, 0.7504990019960079, 0.7239847715736041, 0.742409402546523, 0.7595177664974619, 0.7741116751269036, 0.7880710659898477, 0.7182741116751269, 0.7753807106598984, 0.7388157894736842, 0.7220812182741116, 0.7684301821335646, 0.7956852791878173, 0.7170050761421319, 0.758248730964467, 0.7538071065989848, 0.756979695431472, 0.7411167512690355, 0.741751269035533, 0.7696700507614214, 0.7423857868020305, 0.7303299492385786, 0.7760152284263959, 0.7231638418079096, 0.6862514688601645, 0.7595177664974619, 0.750197628458498, 0.7663008392511298, 0.7644017725258493, 0.7804568527918782, 0.7639593908629442, 0.6814516129032258, 0.7141203703703703, 0.7176395939086294, 0.7844374342797056, 0.7766143106457243, 0.7658629441624365, 0.7407407407407407, 0.7622422680412371, 0.7576142131979695, 0.7589225589225589, 0.7455583756345178, 0.7698470502549163, 0.7290609137055838, 0.69377990430622, 0.7383367139959433, 0.7588832487309645, 0.7161198288159771, 0.7746759720837487, 0.6697080291970803, 0.7088477366255144, 0.7244201909959073, 0.7714791851195748, 0.7614213197969543, 0.7372881355932204, 0.7683109118086696, 0.7853577371048253, 0.7284263959390863, 0.7026279391424619, 0.7461928934010152, 0.7187839305103149, 0.7219387755102041, 0.7138324873096447, 0.7461928934010152, 0.7493654822335025, 0.7309644670050761, 0.7392131979695431, 0.7303299492385786, 0.7298969072164948, 0.6986040609137056, 0.7173308619091752, 0.7220812182741116, 0.7506345177664975, 0.7308282208588958, 0.7392131979695431, 0.7474619289340102, 0.7810913705583756, 0.7696700507614214, 0.7538071065989848, 0.7639593908629442, 0.7366751269035533, 0.6923076923076923, 0.7366751269035533, 0.7090190915075708, 0.7423857868020305, 0.7288888888888889, 0.7131474103585658, 0.7695852534562212, 0.7328680203045685, 0.7766497461928934, 0.7345679012345679, 0.7385786802030457, 0.7290609137055838, 0.7385786802030457, 0.7068527918781726, 0.7515400410677618, 0.7473903966597077, 0.7770491803278688, 0.7272727272727273, 0.7519035532994924, 0.7727272727272727, 0.7722081218274112, 0.7429760665972945, 0.7392795883361921, 0.7693089430894309, 0.715962441314554, 0.6958904109589041, 0.7557823129251701, 0.7347715736040609, 0.6936936936936937, 0.743020304568528, 0.6923076923076923, 0.7303299492385786, 0.741751269035533, 0.75, 0.7874365482233503, 0.7558746736292428, 0.7373096446700508, 0.762015503875969, 0.7303299492385786, 0.7703045685279187, 0.7185185185185186, 0.7823604060913706, 0.7524229074889868, 0.7151015228426396, 0.75, 0.7278688524590164, 0.7461928934010152, 0.7817258883248731, 0.6839546191247974, 0.7506345177664975, 0.7468274111675127, 0.7322175732217573, 0.7488702388637831, 0.7546419098143236, 0.702231520223152, 0.7417943107221007, 0.7550312283136711, 0.7011421319796954, 0.7170050761421319, 0.7480964467005076, 0.7560718057022175, 0.7525380710659898, 0.7283702213279678, 0.7309644670050761, 0.7643312101910829, 0.7020669992872416, 0.748730964467005, 0.7392131979695431, 0.7385786802030457, 0.7290609137055838, 0.7057291666666666, 0.7436548223350253, 0.7715909090909091, 0.8058470764617691, 0.7493654822335025, 0.7233502538071066, 0.7690355329949239, 0.7489711934156379, 0.7828282828282829, 0.7777777777777778, 0.7816091954022989, 0.7519035532994924, 0.741913282863042, 0.729431721798134, 0.7529182879377432, 0.7423857868020305, 0.6338028169014085, 0.2857142857142857, 0.7861675126903553, 0.6977715877437326, 0.7081218274111675, 0.7131979695431472, 0.7334315169366715, 0.7290609137055838, 0.7461928934010152, 0.7350936967632027, 0.7100253807106599, 0.7507936507936508, 0.7804568527918782, 0.7769230769230769, 0.7480964467005076, 0.7048192771084337, 0.7715736040609137, 0.7416434540389972, 0.7112944162436549, 0.7931472081218274, 0.75, 0.700952380952381, 0.7519035532994924, 0.7233502538071066, 0.7258883248730964, 0.7385786802030457, 0.791243654822335, 0.712401055408971, 0.7906091370558376, 0.7392131979695431, 0.743020304568528, 0.7760152284263959, 0.6993957703927492, 0.7271573604060914, 0.7290609137055838, 0.7328680203045685, 0.741751269035533, 0.7610693400167085, 0.7891997397527651, 0.7138810198300283, 0.7570093457943925, 0.7722081218274112, 0.7346938775510204, 0.7373096446700508, 0.8013959390862944, 0.766497461928934, 0.7331210191082802, 0.7398171238570241, 0.6915629322268326, 0.7329700272479565, 0.7189189189189189, 0.761938202247191, 0.748730964467005, 0.7754318618042226, 0.7030456852791879, 0.7639593908629442, 0.725253807106599, 0.7366751269035533, 0.7138324873096447, 0.7813248204309656, 0.7728426395939086, 0.6346153846153846, 0.6802973977695167, 0.7436548223350253, 0.7116182572614108, 0.7601522842639594, 0.7506345177664975, 0.7136431784107946, 0.7538071065989848, 0.6995515695067265, 0.7404822335025381, 0.7804568527918782, 0.7461928934010152, 0.7696700507614214, 0.7407407407407407, 0.7635619242579325, 0.7661016949152543, 0.7836294416243654, 0.6979695431472082, 0.7667386609071274, 0.7398843930635838, 0.7074873096446701, 0.751269035532995, 0.7233502538071066, 0.7340425531914894, 0.6973125884016973, 0.7411167512690355, 0.8064720812182741, 0.724191063174114, 0.7477110885045778, 0.763677811550152, 0.7341370558375635, 0.7570584372948129, 0.7595177664974619, 0.6994475138121546, 0.7449238578680203, 0.7271573604060914, 0.7157360406091371, 0.746971736204576, 0.7151015228426396, 0.7398477157360406, 0.7131011608623549, 0.761747732893652, 0.7111777944486122, 0.7880710659898477, 0.7533460803059273, 0.7829949238578681, 0.7373096446700508, 0.7554098360655738, 0.718978102189781, 0.7722081218274112, 0.7811607992388202, 0.7728426395939086, 0.738074588031223, 0.7196738022426096, 0.7347715736040609, 0.7558843308675185, 0.736808645899555, 0.751269035532995, 0.7684010152284264, 0.7337349397590361, 0.7266121707538601, 0.7747559274755927, 0.6973803071364046, 0.7677664974619289, 0.7504553734061931, 0.7340619307832422, 0.690989847715736, 0.7290609137055838, 0.7461928934010152, 0.7436548223350253, 0.7576142131979695, 0.7576142131979695, 0.7309644670050761, 0.7736842105263158, 0.7893203883495146, 0.7703045685279187, 0.7409733124018838, 0.7474619289340102, 0.6796536796536796, 0.7231457800511509, 0.741751269035533, 0.7379441624365483, 0.7601522842639594, 0.7694214876033058, 0.7239847715736041, 0.7303299492385786, 0.6794258373205742, 0.75, 0.7547015535568274, 0.7243697478991596, 0.7316810344827587, 0.7373096446700508, 0.7379441624365483, 0.6692913385826772, 0.7130044843049327, 0.751269035532995, 0.7233502538071066, 0.7208121827411168, 0.7614213197969543, 0.7555282555282555, 0.7602627257799671, 0.7614213197969543, 0.7557106598984772, 0.6970118137595552, 0.7671319796954315, 0.7893401015228426, 0.738556338028169, 0.7189086294416244, 0.7315989847715736, 0.7319819819819819, 0.7369353410097431, 0.7658629441624365, 0.7931472081218274, 0.7182741116751269, 0.7772842639593909, 0.7648305084745762, 0.7827403482210447, 0.7455583756345178, 0.7456521739130435, 0.7881918819188192, 0.7354060913705583, 0.7036802030456852, 0.7367360644728005, 0.7418725617685306, 0.7893401015228426, 0.7480964467005076, 0.7319508448540707, 0.686556927297668, 0.751269035532995, 0.7411167512690355, 0.7125634517766497, 0.7614213197969543, 0.7296954314720813, 0.7151015228426396, 0.7384910485933504, 0.7030456852791879, 0.7135728542914171, 0.726475279106858, 0.7557106598984772, 0.752548656163114, 0.7498081350729087, 0.7558528428093646, 0.7170050761421319, 0.7349869451697127, 0.7722081218274112, 0.784801613987895, 0.774746192893401, 0.7142857142857143, 0.7525380710659898, 0.7753807106598984, 0.7671319796954315, 0.7246192893401016, 0.7588832487309645, 0.7707881417208966, 0.7696700507614214, 0.7030456852791879, 0.7520278099652375, 0.7565922920892495, 0.7906091370558376, 0.7595177664974619, 0.7395348837209302, 0.7068527918781726, 0.772560528246515, 0.7626262626262627, 0.6893491124260355, 0.7309644670050761, 0.6725352112676056, 0.7548701298701299, 0.7601522842639594, 0.8026649746192893, 0.7281831187410587, 0.7290609137055838, 0.741751269035533, 0.748730964467005, 0.7036802030456852, 0.7294812869336835, 0.75, 0.6885245901639344, 0.7468274111675127, 0.7684010152284264, 0.7576142131979695, 0.7379441624365483, 0.7791878172588832, 0.7284263959390863, 0.7075098814229249, 0.7506345177664975, 0.7394957983193278, 0.7385786802030457, 0.7760869565217391, 0.7331711273317113, 0.7855530474040632, 0.7125634517766497, 0.7652284263959391, 0.7645939086294417, 0.7494489346069066, 0.5806451612903226, 0.7399848828420257, 0.7034013605442176, 0.7703045685279187, 0.799492385786802, 0.7766497461928934, 0.6853582554517134, 0.683046683046683, 0.793733681462141, 0.7576142131979695, 0.7131979695431472, 0.7341370558375635, 0.7472527472527473, 0.7614213197969543, 0.7290609137055838, 0.7201776649746193, 0.7723919915700738, 0.7550761421319797, 0.7580195258019525, 0.7068527918781726, 0.7309644670050761, 0.7785532994923858, 0.7176395939086294, 0.791243654822335, 0.7522321428571429, 0.8058375634517766, 0.7493654822335025, 0.7495667244367418, 0.7529953917050691, 0.7265228426395939, 0.7124802527646129, 0.7093889716840537, 0.7779187817258884, 0.7839721254355401, 0.7130281690140845]\n"
          ]
        }
      ]
    },
    {
      "cell_type": "code",
      "source": [
        "sum_all_accuracy = sum(all_accuracy)\n",
        "avg_all_accuracy = sum_all_accuracy / len(all_accuracy)\n",
        "# Print or use total_accuracy as needed\n",
        "print(\"Average Accuracy of S&P 500 Component Stocks:\", avg_all_accuracy)"
      ],
      "metadata": {
        "colab": {
          "base_uri": "https://localhost:8080/",
          "height": 0
        },
        "id": "CQYCLX-rly1H",
        "outputId": "9e41a207-d111-4fb2-a9f7-5713782c6372"
      },
      "execution_count": 16,
      "outputs": [
        {
          "output_type": "stream",
          "name": "stdout",
          "text": [
            "Average Accuracy of S&P 500 Component Stocks: 0.7411388221501941\n"
          ]
        }
      ]
    },
    {
      "cell_type": "markdown",
      "source": [
        "#### SPY ETF"
      ],
      "metadata": {
        "id": "6Ttl2LB8mc70"
      }
    },
    {
      "cell_type": "code",
      "source": [
        "# SPY process_ticker\n",
        "\n",
        "ticker, accuracy, classification_report, merged_spy = process_ticker(\"SPY\", spy, spy.name)"
      ],
      "metadata": {
        "id": "z0Ytxyqw2nb1"
      },
      "execution_count": 17,
      "outputs": []
    },
    {
      "cell_type": "code",
      "source": [
        "# Print the results\n",
        "print(\"Ticker:\", ticker)\n",
        "print(\"SPY Accuracy:\", accuracy)\n",
        "print(\"Classification Report:\")\n",
        "print(classification_report)\n",
        "print(merged_spy.shape)\n",
        "\n",
        "\n"
      ],
      "metadata": {
        "colab": {
          "base_uri": "https://localhost:8080/",
          "height": 0
        },
        "id": "-kSl-bxOZpMF",
        "outputId": "4200b7d8-a533-4c6d-b620-68a19f0ede59"
      },
      "execution_count": 18,
      "outputs": [
        {
          "output_type": "stream",
          "name": "stdout",
          "text": [
            "Ticker: SPY\n",
            "SPY Accuracy: 0.6821065989847716\n",
            "Classification Report:\n",
            "              precision    recall  f1-score   support\n",
            "\n",
            "           0       0.66      0.63      0.65       727\n",
            "           1       0.70      0.72      0.71       849\n",
            "\n",
            "    accuracy                           0.68      1576\n",
            "   macro avg       0.68      0.68      0.68      1576\n",
            "weighted avg       0.68      0.68      0.68      1576\n",
            "\n",
            "(7878, 11)\n"
          ]
        }
      ]
    },
    {
      "cell_type": "markdown",
      "source": [
        "### Model 1 (other): Bull/Bear\n",
        "\n",
        "Very condensed version of Data Collection, Data Clean up, and ML model 1 all in a singular function (process_ticker2) which then uses concurrent.futures library to parallelize & speedup.\n",
        "\n",
        "ProcessPoolExecutor() simplifies the process of parallelizing and managing concurrent execution of functions across multiple processes, which can improve performance for tasks that can be parallelized.\n",
        "\n",
        "In theory, process_ticker2 should be a lot faster than my original setup (Data Collection - Model 1: Bull/Bear). Also, from tests on the first 10 tickers, the accuracies are fairly similar, not much loss or gained from either model.\n",
        "\n",
        "\n",
        "\n",
        "---\n",
        "\n",
        "Leaving this here, it runs and works well, but I think my original runs faster overall. Decided to comment the code out, but it is cool to take a look at and play with.\n"
      ],
      "metadata": {
        "id": "VLNPPMQzDxfJ"
      }
    },
    {
      "cell_type": "code",
      "source": [
        "'''\n",
        "import concurrent.futures\n",
        "from sklearn.model_selection import StratifiedKFold\n",
        "\n",
        "# Define a function to process each ticker\n",
        "def process_ticker2(ticker):\n",
        "    # Fetch data for the ticker\n",
        "    data = yf.download(ticker, start=\"1993-01-29\")\n",
        "\n",
        "    if data.empty:\n",
        "        return None\n",
        "    # clean data\n",
        "    data = add_bull_bear_col(data)\n",
        "\n",
        "    # Generate features (X) and labels (y)\n",
        "    X = select_features(data)\n",
        "    y = data['Bull/Bear']\n",
        "\n",
        "    # Split data for cross-validation\n",
        "    skf = StratifiedKFold(n_splits=5, shuffle=True, random_state=42)\n",
        "    accuracies = []\n",
        "    for train_index, test_index in skf.split(X, y):\n",
        "        X_train, X_test = X.iloc[train_index], X.iloc[test_index]\n",
        "        y_train, y_test = y.iloc[train_index], y.iloc[test_index]\n",
        "\n",
        "        # Define and train the classifier\n",
        "        clf = RandomForestClassifier(random_state=5)\n",
        "        clf.fit(X_train, y_train)\n",
        "\n",
        "        # Evaluate accuracy\n",
        "        accuracy = clf.score(X_test, y_test)\n",
        "        accuracies.append(accuracy)\n",
        "\n",
        "    return ticker, np.mean(accuracies), None  # Return accuracy only\n",
        "\n",
        "'''\n"
      ],
      "metadata": {
        "collapsed": true,
        "id": "4s1-4-QGlkpS",
        "colab": {
          "base_uri": "https://localhost:8080/",
          "height": 0
        },
        "outputId": "bc1a680f-9929-49f9-c212-38c089375bf4"
      },
      "execution_count": 19,
      "outputs": [
        {
          "output_type": "execute_result",
          "data": {
            "text/plain": [
              "'\\nimport concurrent.futures\\nfrom sklearn.model_selection import StratifiedKFold\\n\\n# Define a function to process each ticker\\ndef process_ticker2(ticker):\\n    # Fetch data for the ticker\\n    data = yf.download(ticker, start=\"1993-01-29\")\\n\\n    if data.empty:\\n        return None\\n    # clean data\\n    data = add_bull_bear_col(data)\\n\\n    # Generate features (X) and labels (y)\\n    X = select_features(data)\\n    y = data[\\'Bull/Bear\\']\\n\\n    # Split data for cross-validation\\n    skf = StratifiedKFold(n_splits=5, shuffle=True, random_state=42)\\n    accuracies = []\\n    for train_index, test_index in skf.split(X, y):\\n        X_train, X_test = X.iloc[train_index], X.iloc[test_index]\\n        y_train, y_test = y.iloc[train_index], y.iloc[test_index]\\n\\n        # Define and train the classifier\\n        clf = RandomForestClassifier(random_state=5)\\n        clf.fit(X_train, y_train)\\n\\n        # Evaluate accuracy\\n        accuracy = clf.score(X_test, y_test)\\n        accuracies.append(accuracy)\\n\\n    return ticker, np.mean(accuracies), None  # Return accuracy only\\n\\n'"
            ],
            "application/vnd.google.colaboratory.intrinsic+json": {
              "type": "string"
            }
          },
          "metadata": {},
          "execution_count": 19
        }
      ]
    },
    {
      "cell_type": "code",
      "source": [
        "'''\n",
        "# Define the list of tickers to process\n",
        "tickers_list = sp500_tickers_df[\"Ticker\"].tolist()\n",
        "\n",
        "# Process tickers using concurrent futures\n",
        "with concurrent.futures.ProcessPoolExecutor() as executor:\n",
        "    results = executor.map(process_ticker2, tickers_list)\n",
        "\n",
        "# Print the results\n",
        "for result in results:\n",
        "    if result:\n",
        "        print(\"Ticker:\", result[0])\n",
        "        print(\"Mean Accuracy:\", result[1])\n",
        "'''"
      ],
      "metadata": {
        "colab": {
          "base_uri": "https://localhost:8080/",
          "height": 0
        },
        "id": "o29u9vyEmlFD",
        "outputId": "16187a3c-82ae-4504-929f-958858f89ff7"
      },
      "execution_count": 20,
      "outputs": [
        {
          "output_type": "execute_result",
          "data": {
            "text/plain": [
              "'\\n# Define the list of tickers to process\\ntickers_list = sp500_tickers_df[\"Ticker\"].tolist()\\n\\n# Process tickers using concurrent futures\\nwith concurrent.futures.ProcessPoolExecutor() as executor:\\n    results = executor.map(process_ticker2, tickers_list)\\n\\n# Print the results\\nfor result in results:\\n    if result:\\n        print(\"Ticker:\", result[0])\\n        print(\"Mean Accuracy:\", result[1])\\n'"
            ],
            "application/vnd.google.colaboratory.intrinsic+json": {
              "type": "string"
            }
          },
          "metadata": {},
          "execution_count": 20
        }
      ]
    },
    {
      "cell_type": "markdown",
      "metadata": {
        "id": "i6dCvaW3eTbJ"
      },
      "source": [
        "### Model 2: Price Prediction"
      ]
    },
    {
      "cell_type": "code",
      "source": [
        "# converts string date ex. 'yyyy-mm-dd' to datetime data type\n",
        "def str_to_datetime(s):\n",
        "  split = s.split('-')\n",
        "  year, month, day = int(split[0]), int(split[1]), int(split[2])\n",
        "  return datetime.datetime(year=year, month=month, day=day)\n",
        "\n",
        "# example\n",
        "datetime_object = str_to_datetime('1986-03-19')\n",
        "datetime_object"
      ],
      "metadata": {
        "colab": {
          "base_uri": "https://localhost:8080/",
          "height": 0
        },
        "id": "DDopK4VUWSjs",
        "outputId": "9b499216-4706-40f5-c955-a160508fd3b7"
      },
      "execution_count": 21,
      "outputs": [
        {
          "output_type": "execute_result",
          "data": {
            "text/plain": [
              "datetime.datetime(1986, 3, 19, 0, 0)"
            ]
          },
          "metadata": {},
          "execution_count": 21
        }
      ]
    },
    {
      "cell_type": "code",
      "source": [
        "# takes a df, start date, and end date\n",
        "\n",
        "def df_to_windowed_df(dataframe, first_date_str, last_date_str, n=3):\n",
        "  first_date = str_to_datetime(first_date_str)\n",
        "  last_date  = str_to_datetime(last_date_str)\n",
        "\n",
        "  target_date = first_date\n",
        "\n",
        "  dates = []\n",
        "  X, Y = [], []\n",
        "\n",
        "  last_time = False\n",
        "  while True:\n",
        "    df_subset = dataframe.loc[:target_date].tail(n+1)\n",
        "\n",
        "    if len(df_subset) != n+1:\n",
        "      print(f'Error: Window of size {n} is too large for date {target_date}')\n",
        "      return\n",
        "\n",
        "    values = df_subset['Close'].to_numpy()\n",
        "    x, y = values[:-1], values[-1]\n",
        "\n",
        "    dates.append(target_date)\n",
        "    X.append(x)\n",
        "    Y.append(y)\n",
        "\n",
        "    next_week = dataframe.loc[target_date:target_date+datetime.timedelta(days=7)]\n",
        "    next_datetime_str = str(next_week.head(2).tail(1).index.values[0])\n",
        "    next_date_str = next_datetime_str.split('T')[0]\n",
        "    year_month_day = next_date_str.split('-')\n",
        "    year, month, day = year_month_day\n",
        "    next_date = datetime.datetime(day=int(day), month=int(month), year=int(year))\n",
        "\n",
        "    if last_time:\n",
        "      break\n",
        "\n",
        "    target_date = next_date\n",
        "\n",
        "    if target_date == last_date:\n",
        "      last_time = True\n",
        "\n",
        "  ret_df = pd.DataFrame({})\n",
        "  ret_df['Target Date'] = dates\n",
        "\n",
        "  X = np.array(X)\n",
        "  for i in range(0, n):\n",
        "    X[:, i]\n",
        "    ret_df[f'Target-{n-i}'] = X[:, i]\n",
        "\n",
        "  ret_df['Target'] = Y\n",
        "\n",
        "  return ret_df\n",
        "\n"
      ],
      "metadata": {
        "id": "QF8tqex8Wmb7"
      },
      "execution_count": 22,
      "outputs": []
    },
    {
      "cell_type": "code",
      "source": [
        "# Start day second time around: 3 years ago\n",
        "windowed_df = df_to_windowed_df(spy,\n",
        "                                '2021-05-10',\n",
        "                                '2024-05-10',\n",
        "                                n=3)\n",
        "windowed_df.head()"
      ],
      "metadata": {
        "colab": {
          "base_uri": "https://localhost:8080/",
          "height": 206
        },
        "id": "RfsHykLsW1y-",
        "outputId": "6af78d91-743b-4d19-9151-d33437845fd5"
      },
      "execution_count": 23,
      "outputs": [
        {
          "output_type": "execute_result",
          "data": {
            "text/plain": [
              "  Target Date    Target-3    Target-2    Target-1      Target\n",
              "0  2021-05-10  415.750000  419.070007  422.119995  417.940002\n",
              "1  2021-05-11  419.070007  422.119995  417.940002  414.209991\n",
              "2  2021-05-12  422.119995  417.940002  414.209991  405.410004\n",
              "3  2021-05-13  417.940002  414.209991  405.410004  410.279999\n",
              "4  2021-05-14  414.209991  405.410004  410.279999  416.579987"
            ],
            "text/html": [
              "\n",
              "  <div id=\"df-5407e67e-d9b1-491b-8739-8e74f9be5c6d\" class=\"colab-df-container\">\n",
              "    <div>\n",
              "<style scoped>\n",
              "    .dataframe tbody tr th:only-of-type {\n",
              "        vertical-align: middle;\n",
              "    }\n",
              "\n",
              "    .dataframe tbody tr th {\n",
              "        vertical-align: top;\n",
              "    }\n",
              "\n",
              "    .dataframe thead th {\n",
              "        text-align: right;\n",
              "    }\n",
              "</style>\n",
              "<table border=\"1\" class=\"dataframe\">\n",
              "  <thead>\n",
              "    <tr style=\"text-align: right;\">\n",
              "      <th></th>\n",
              "      <th>Target Date</th>\n",
              "      <th>Target-3</th>\n",
              "      <th>Target-2</th>\n",
              "      <th>Target-1</th>\n",
              "      <th>Target</th>\n",
              "    </tr>\n",
              "  </thead>\n",
              "  <tbody>\n",
              "    <tr>\n",
              "      <th>0</th>\n",
              "      <td>2021-05-10</td>\n",
              "      <td>415.750000</td>\n",
              "      <td>419.070007</td>\n",
              "      <td>422.119995</td>\n",
              "      <td>417.940002</td>\n",
              "    </tr>\n",
              "    <tr>\n",
              "      <th>1</th>\n",
              "      <td>2021-05-11</td>\n",
              "      <td>419.070007</td>\n",
              "      <td>422.119995</td>\n",
              "      <td>417.940002</td>\n",
              "      <td>414.209991</td>\n",
              "    </tr>\n",
              "    <tr>\n",
              "      <th>2</th>\n",
              "      <td>2021-05-12</td>\n",
              "      <td>422.119995</td>\n",
              "      <td>417.940002</td>\n",
              "      <td>414.209991</td>\n",
              "      <td>405.410004</td>\n",
              "    </tr>\n",
              "    <tr>\n",
              "      <th>3</th>\n",
              "      <td>2021-05-13</td>\n",
              "      <td>417.940002</td>\n",
              "      <td>414.209991</td>\n",
              "      <td>405.410004</td>\n",
              "      <td>410.279999</td>\n",
              "    </tr>\n",
              "    <tr>\n",
              "      <th>4</th>\n",
              "      <td>2021-05-14</td>\n",
              "      <td>414.209991</td>\n",
              "      <td>405.410004</td>\n",
              "      <td>410.279999</td>\n",
              "      <td>416.579987</td>\n",
              "    </tr>\n",
              "  </tbody>\n",
              "</table>\n",
              "</div>\n",
              "    <div class=\"colab-df-buttons\">\n",
              "\n",
              "  <div class=\"colab-df-container\">\n",
              "    <button class=\"colab-df-convert\" onclick=\"convertToInteractive('df-5407e67e-d9b1-491b-8739-8e74f9be5c6d')\"\n",
              "            title=\"Convert this dataframe to an interactive table.\"\n",
              "            style=\"display:none;\">\n",
              "\n",
              "  <svg xmlns=\"http://www.w3.org/2000/svg\" height=\"24px\" viewBox=\"0 -960 960 960\">\n",
              "    <path d=\"M120-120v-720h720v720H120Zm60-500h600v-160H180v160Zm220 220h160v-160H400v160Zm0 220h160v-160H400v160ZM180-400h160v-160H180v160Zm440 0h160v-160H620v160ZM180-180h160v-160H180v160Zm440 0h160v-160H620v160Z\"/>\n",
              "  </svg>\n",
              "    </button>\n",
              "\n",
              "  <style>\n",
              "    .colab-df-container {\n",
              "      display:flex;\n",
              "      gap: 12px;\n",
              "    }\n",
              "\n",
              "    .colab-df-convert {\n",
              "      background-color: #E8F0FE;\n",
              "      border: none;\n",
              "      border-radius: 50%;\n",
              "      cursor: pointer;\n",
              "      display: none;\n",
              "      fill: #1967D2;\n",
              "      height: 32px;\n",
              "      padding: 0 0 0 0;\n",
              "      width: 32px;\n",
              "    }\n",
              "\n",
              "    .colab-df-convert:hover {\n",
              "      background-color: #E2EBFA;\n",
              "      box-shadow: 0px 1px 2px rgba(60, 64, 67, 0.3), 0px 1px 3px 1px rgba(60, 64, 67, 0.15);\n",
              "      fill: #174EA6;\n",
              "    }\n",
              "\n",
              "    .colab-df-buttons div {\n",
              "      margin-bottom: 4px;\n",
              "    }\n",
              "\n",
              "    [theme=dark] .colab-df-convert {\n",
              "      background-color: #3B4455;\n",
              "      fill: #D2E3FC;\n",
              "    }\n",
              "\n",
              "    [theme=dark] .colab-df-convert:hover {\n",
              "      background-color: #434B5C;\n",
              "      box-shadow: 0px 1px 3px 1px rgba(0, 0, 0, 0.15);\n",
              "      filter: drop-shadow(0px 1px 2px rgba(0, 0, 0, 0.3));\n",
              "      fill: #FFFFFF;\n",
              "    }\n",
              "  </style>\n",
              "\n",
              "    <script>\n",
              "      const buttonEl =\n",
              "        document.querySelector('#df-5407e67e-d9b1-491b-8739-8e74f9be5c6d button.colab-df-convert');\n",
              "      buttonEl.style.display =\n",
              "        google.colab.kernel.accessAllowed ? 'block' : 'none';\n",
              "\n",
              "      async function convertToInteractive(key) {\n",
              "        const element = document.querySelector('#df-5407e67e-d9b1-491b-8739-8e74f9be5c6d');\n",
              "        const dataTable =\n",
              "          await google.colab.kernel.invokeFunction('convertToInteractive',\n",
              "                                                    [key], {});\n",
              "        if (!dataTable) return;\n",
              "\n",
              "        const docLinkHtml = 'Like what you see? Visit the ' +\n",
              "          '<a target=\"_blank\" href=https://colab.research.google.com/notebooks/data_table.ipynb>data table notebook</a>'\n",
              "          + ' to learn more about interactive tables.';\n",
              "        element.innerHTML = '';\n",
              "        dataTable['output_type'] = 'display_data';\n",
              "        await google.colab.output.renderOutput(dataTable, element);\n",
              "        const docLink = document.createElement('div');\n",
              "        docLink.innerHTML = docLinkHtml;\n",
              "        element.appendChild(docLink);\n",
              "      }\n",
              "    </script>\n",
              "  </div>\n",
              "\n",
              "\n",
              "<div id=\"df-62bdfcc9-28ff-4863-b4c5-932f1ce52700\">\n",
              "  <button class=\"colab-df-quickchart\" onclick=\"quickchart('df-62bdfcc9-28ff-4863-b4c5-932f1ce52700')\"\n",
              "            title=\"Suggest charts\"\n",
              "            style=\"display:none;\">\n",
              "\n",
              "<svg xmlns=\"http://www.w3.org/2000/svg\" height=\"24px\"viewBox=\"0 0 24 24\"\n",
              "     width=\"24px\">\n",
              "    <g>\n",
              "        <path d=\"M19 3H5c-1.1 0-2 .9-2 2v14c0 1.1.9 2 2 2h14c1.1 0 2-.9 2-2V5c0-1.1-.9-2-2-2zM9 17H7v-7h2v7zm4 0h-2V7h2v10zm4 0h-2v-4h2v4z\"/>\n",
              "    </g>\n",
              "</svg>\n",
              "  </button>\n",
              "\n",
              "<style>\n",
              "  .colab-df-quickchart {\n",
              "      --bg-color: #E8F0FE;\n",
              "      --fill-color: #1967D2;\n",
              "      --hover-bg-color: #E2EBFA;\n",
              "      --hover-fill-color: #174EA6;\n",
              "      --disabled-fill-color: #AAA;\n",
              "      --disabled-bg-color: #DDD;\n",
              "  }\n",
              "\n",
              "  [theme=dark] .colab-df-quickchart {\n",
              "      --bg-color: #3B4455;\n",
              "      --fill-color: #D2E3FC;\n",
              "      --hover-bg-color: #434B5C;\n",
              "      --hover-fill-color: #FFFFFF;\n",
              "      --disabled-bg-color: #3B4455;\n",
              "      --disabled-fill-color: #666;\n",
              "  }\n",
              "\n",
              "  .colab-df-quickchart {\n",
              "    background-color: var(--bg-color);\n",
              "    border: none;\n",
              "    border-radius: 50%;\n",
              "    cursor: pointer;\n",
              "    display: none;\n",
              "    fill: var(--fill-color);\n",
              "    height: 32px;\n",
              "    padding: 0;\n",
              "    width: 32px;\n",
              "  }\n",
              "\n",
              "  .colab-df-quickchart:hover {\n",
              "    background-color: var(--hover-bg-color);\n",
              "    box-shadow: 0 1px 2px rgba(60, 64, 67, 0.3), 0 1px 3px 1px rgba(60, 64, 67, 0.15);\n",
              "    fill: var(--button-hover-fill-color);\n",
              "  }\n",
              "\n",
              "  .colab-df-quickchart-complete:disabled,\n",
              "  .colab-df-quickchart-complete:disabled:hover {\n",
              "    background-color: var(--disabled-bg-color);\n",
              "    fill: var(--disabled-fill-color);\n",
              "    box-shadow: none;\n",
              "  }\n",
              "\n",
              "  .colab-df-spinner {\n",
              "    border: 2px solid var(--fill-color);\n",
              "    border-color: transparent;\n",
              "    border-bottom-color: var(--fill-color);\n",
              "    animation:\n",
              "      spin 1s steps(1) infinite;\n",
              "  }\n",
              "\n",
              "  @keyframes spin {\n",
              "    0% {\n",
              "      border-color: transparent;\n",
              "      border-bottom-color: var(--fill-color);\n",
              "      border-left-color: var(--fill-color);\n",
              "    }\n",
              "    20% {\n",
              "      border-color: transparent;\n",
              "      border-left-color: var(--fill-color);\n",
              "      border-top-color: var(--fill-color);\n",
              "    }\n",
              "    30% {\n",
              "      border-color: transparent;\n",
              "      border-left-color: var(--fill-color);\n",
              "      border-top-color: var(--fill-color);\n",
              "      border-right-color: var(--fill-color);\n",
              "    }\n",
              "    40% {\n",
              "      border-color: transparent;\n",
              "      border-right-color: var(--fill-color);\n",
              "      border-top-color: var(--fill-color);\n",
              "    }\n",
              "    60% {\n",
              "      border-color: transparent;\n",
              "      border-right-color: var(--fill-color);\n",
              "    }\n",
              "    80% {\n",
              "      border-color: transparent;\n",
              "      border-right-color: var(--fill-color);\n",
              "      border-bottom-color: var(--fill-color);\n",
              "    }\n",
              "    90% {\n",
              "      border-color: transparent;\n",
              "      border-bottom-color: var(--fill-color);\n",
              "    }\n",
              "  }\n",
              "</style>\n",
              "\n",
              "  <script>\n",
              "    async function quickchart(key) {\n",
              "      const quickchartButtonEl =\n",
              "        document.querySelector('#' + key + ' button');\n",
              "      quickchartButtonEl.disabled = true;  // To prevent multiple clicks.\n",
              "      quickchartButtonEl.classList.add('colab-df-spinner');\n",
              "      try {\n",
              "        const charts = await google.colab.kernel.invokeFunction(\n",
              "            'suggestCharts', [key], {});\n",
              "      } catch (error) {\n",
              "        console.error('Error during call to suggestCharts:', error);\n",
              "      }\n",
              "      quickchartButtonEl.classList.remove('colab-df-spinner');\n",
              "      quickchartButtonEl.classList.add('colab-df-quickchart-complete');\n",
              "    }\n",
              "    (() => {\n",
              "      let quickchartButtonEl =\n",
              "        document.querySelector('#df-62bdfcc9-28ff-4863-b4c5-932f1ce52700 button');\n",
              "      quickchartButtonEl.style.display =\n",
              "        google.colab.kernel.accessAllowed ? 'block' : 'none';\n",
              "    })();\n",
              "  </script>\n",
              "</div>\n",
              "    </div>\n",
              "  </div>\n"
            ],
            "application/vnd.google.colaboratory.intrinsic+json": {
              "type": "dataframe",
              "variable_name": "windowed_df",
              "summary": "{\n  \"name\": \"windowed_df\",\n  \"rows\": 757,\n  \"fields\": [\n    {\n      \"column\": \"Target Date\",\n      \"properties\": {\n        \"dtype\": \"date\",\n        \"min\": \"2021-05-10 00:00:00\",\n        \"max\": \"2024-05-10 00:00:00\",\n        \"num_unique_values\": 757,\n        \"samples\": [\n          \"2022-12-21 00:00:00\",\n          \"2021-09-27 00:00:00\",\n          \"2022-06-21 00:00:00\"\n        ],\n        \"semantic_type\": \"\",\n        \"description\": \"\"\n      }\n    },\n    {\n      \"column\": \"Target-3\",\n      \"properties\": {\n        \"dtype\": \"number\",\n        \"std\": 36.34554250519134,\n        \"min\": 356.55999755859375,\n        \"max\": 523.1699829101562,\n        \"num_unique_values\": 735,\n        \"samples\": [\n          436.8900146484375,\n          425.1000061035156,\n          365.8599853515625\n        ],\n        \"semantic_type\": \"\",\n        \"description\": \"\"\n      }\n    },\n    {\n      \"column\": \"Target-2\",\n      \"properties\": {\n        \"dtype\": \"number\",\n        \"std\": 36.46754866013443,\n        \"min\": 356.55999755859375,\n        \"max\": 523.1699829101562,\n        \"num_unique_values\": 735,\n        \"samples\": [\n          439.9700012207031,\n          426.6099853515625,\n          375.07000732421875\n        ],\n        \"semantic_type\": \"\",\n        \"description\": \"\"\n      }\n    },\n    {\n      \"column\": \"Target-1\",\n      \"properties\": {\n        \"dtype\": \"number\",\n        \"std\": 36.59976352979548,\n        \"min\": 356.55999755859375,\n        \"max\": 523.1699829101562,\n        \"num_unique_values\": 736,\n        \"samples\": [\n          492.54998779296875,\n          426.6099853515625,\n          445.6499938964844\n        ],\n        \"semantic_type\": \"\",\n        \"description\": \"\"\n      }\n    },\n    {\n      \"column\": \"Target\",\n      \"properties\": {\n        \"dtype\": \"number\",\n        \"std\": 36.73454996524042,\n        \"min\": 356.55999755859375,\n        \"max\": 523.1699829101562,\n        \"num_unique_values\": 736,\n        \"samples\": [\n          493.9800109863281,\n          427.4700012207031,\n          448.1099853515625\n        ],\n        \"semantic_type\": \"\",\n        \"description\": \"\"\n      }\n    }\n  ]\n}"
            }
          },
          "metadata": {},
          "execution_count": 23
        }
      ]
    },
    {
      "cell_type": "code",
      "source": [
        "def windowed_df_to_date_X_y(windowed_dataframe):\n",
        "  df_as_np = windowed_dataframe.to_numpy()\n",
        "\n",
        "  dates = df_as_np[:, 0]\n",
        "\n",
        "  middle_matrix = df_as_np[:, 1:-1]\n",
        "  X = middle_matrix.reshape((len(dates), middle_matrix.shape[1], 1))\n",
        "\n",
        "  Y = df_as_np[:, -1]\n",
        "\n",
        "  return dates, X.astype(np.float32), Y.astype(np.float32)\n",
        "\n"
      ],
      "metadata": {
        "id": "i3Xy1xJQXB9T"
      },
      "execution_count": 24,
      "outputs": []
    },
    {
      "cell_type": "code",
      "source": [
        "dates, X, y = windowed_df_to_date_X_y(windowed_df)\n",
        "\n",
        "dates.shape, X.shape, y.shape"
      ],
      "metadata": {
        "colab": {
          "base_uri": "https://localhost:8080/",
          "height": 0
        },
        "id": "z4F1myw6ceVd",
        "outputId": "efb64312-bf64-453d-ac40-2db487879132"
      },
      "execution_count": 25,
      "outputs": [
        {
          "output_type": "execute_result",
          "data": {
            "text/plain": [
              "((757,), (757, 3, 1), (757,))"
            ]
          },
          "metadata": {},
          "execution_count": 25
        }
      ]
    },
    {
      "cell_type": "code",
      "source": [
        "# actual model\n",
        "q_80 = int(len(dates) * .8)\n",
        "q_90 = int(len(dates) * .9)\n",
        "\n",
        "dates_train, X_train, y_train = dates[:q_80], X[:q_80], y[:q_80]\n",
        "\n",
        "dates_val, X_val, y_val = dates[q_80:q_90], X[q_80:q_90], y[q_80:q_90]\n",
        "dates_test, X_test, y_test = dates[q_90:], X[q_90:], y[q_90:]\n",
        "\n",
        "\n",
        "model = Sequential([layers.Input((3, 1)),\n",
        "                    layers.LSTM(64),\n",
        "                    layers.Dense(32, activation='relu'),\n",
        "                    layers.Dense(32, activation='relu'),\n",
        "                    layers.Dense(1)])\n",
        "\n",
        "model.compile(loss='mse',\n",
        "              optimizer=Adam(learning_rate=0.001),\n",
        "              metrics=['mean_absolute_error'])\n",
        "\n",
        "model.fit(X_train, y_train, validation_data=(X_val, y_val), epochs=100)"
      ],
      "metadata": {
        "colab": {
          "base_uri": "https://localhost:8080/",
          "height": 0
        },
        "id": "9lxkKBkqX5xc",
        "outputId": "6989e1f3-22c3-4179-fd24-2217ebb1d7a3"
      },
      "execution_count": 26,
      "outputs": [
        {
          "output_type": "stream",
          "name": "stdout",
          "text": [
            "Epoch 1/100\n",
            "19/19 [==============================] - 3s 42ms/step - loss: 178467.4844 - mean_absolute_error: 421.5500 - val_loss: 203606.3750 - val_mean_absolute_error: 450.7545\n",
            "Epoch 2/100\n",
            "19/19 [==============================] - 0s 7ms/step - loss: 177498.7812 - mean_absolute_error: 420.4007 - val_loss: 202302.4062 - val_mean_absolute_error: 449.3056\n",
            "Epoch 3/100\n",
            "19/19 [==============================] - 0s 6ms/step - loss: 175664.1250 - mean_absolute_error: 418.2104 - val_loss: 199480.7969 - val_mean_absolute_error: 446.1545\n",
            "Epoch 4/100\n",
            "19/19 [==============================] - 0s 7ms/step - loss: 171971.3281 - mean_absolute_error: 413.7726 - val_loss: 194228.6250 - val_mean_absolute_error: 440.2294\n",
            "Epoch 5/100\n",
            "19/19 [==============================] - 0s 7ms/step - loss: 165896.6406 - mean_absolute_error: 406.3584 - val_loss: 185679.8438 - val_mean_absolute_error: 430.4105\n",
            "Epoch 6/100\n",
            "19/19 [==============================] - 0s 11ms/step - loss: 156267.6875 - mean_absolute_error: 394.3098 - val_loss: 173471.3438 - val_mean_absolute_error: 415.9862\n",
            "Epoch 7/100\n",
            "19/19 [==============================] - 0s 10ms/step - loss: 142731.9219 - mean_absolute_error: 376.7103 - val_loss: 155811.8281 - val_mean_absolute_error: 394.1893\n",
            "Epoch 8/100\n",
            "19/19 [==============================] - 0s 10ms/step - loss: 124174.5703 - mean_absolute_error: 351.2046 - val_loss: 133016.8281 - val_mean_absolute_error: 364.1280\n",
            "Epoch 9/100\n",
            "19/19 [==============================] - 0s 10ms/step - loss: 100772.0234 - mean_absolute_error: 316.0774 - val_loss: 105749.6016 - val_mean_absolute_error: 324.5349\n",
            "Epoch 10/100\n",
            "19/19 [==============================] - 0s 9ms/step - loss: 75890.8906 - mean_absolute_error: 273.8161 - val_loss: 78210.4141 - val_mean_absolute_error: 278.8972\n",
            "Epoch 11/100\n",
            "19/19 [==============================] - 0s 11ms/step - loss: 51660.7188 - mean_absolute_error: 225.1305 - val_loss: 51705.6445 - val_mean_absolute_error: 226.4481\n",
            "Epoch 12/100\n",
            "19/19 [==============================] - 0s 10ms/step - loss: 29522.0195 - mean_absolute_error: 168.6714 - val_loss: 28368.6191 - val_mean_absolute_error: 167.1582\n",
            "Epoch 13/100\n",
            "19/19 [==============================] - 0s 10ms/step - loss: 12976.8398 - mean_absolute_error: 108.9433 - val_loss: 11949.7939 - val_mean_absolute_error: 107.3455\n",
            "Epoch 14/100\n",
            "19/19 [==============================] - 0s 10ms/step - loss: 3956.2869 - mean_absolute_error: 55.0690 - val_loss: 4161.9229 - val_mean_absolute_error: 61.1161\n",
            "Epoch 15/100\n",
            "19/19 [==============================] - 0s 10ms/step - loss: 1131.2551 - mean_absolute_error: 27.9626 - val_loss: 1749.7356 - val_mean_absolute_error: 36.5770\n",
            "Epoch 16/100\n",
            "19/19 [==============================] - 0s 10ms/step - loss: 767.3536 - mean_absolute_error: 23.4963 - val_loss: 1242.8429 - val_mean_absolute_error: 29.8239\n",
            "Epoch 17/100\n",
            "19/19 [==============================] - 0s 12ms/step - loss: 766.3280 - mean_absolute_error: 23.4773 - val_loss: 1220.2891 - val_mean_absolute_error: 29.5128\n",
            "Epoch 18/100\n",
            "19/19 [==============================] - 0s 11ms/step - loss: 764.1489 - mean_absolute_error: 23.4644 - val_loss: 1268.0267 - val_mean_absolute_error: 30.1694\n",
            "Epoch 19/100\n",
            "19/19 [==============================] - 0s 12ms/step - loss: 762.7330 - mean_absolute_error: 23.4547 - val_loss: 1303.8441 - val_mean_absolute_error: 30.6618\n",
            "Epoch 20/100\n",
            "19/19 [==============================] - 0s 11ms/step - loss: 763.1077 - mean_absolute_error: 23.4728 - val_loss: 1323.6874 - val_mean_absolute_error: 30.9336\n",
            "Epoch 21/100\n",
            "19/19 [==============================] - 0s 14ms/step - loss: 763.1516 - mean_absolute_error: 23.4771 - val_loss: 1315.5250 - val_mean_absolute_error: 30.8222\n",
            "Epoch 22/100\n",
            "19/19 [==============================] - 0s 11ms/step - loss: 763.3199 - mean_absolute_error: 23.4772 - val_loss: 1298.0172 - val_mean_absolute_error: 30.5814\n",
            "Epoch 23/100\n",
            "19/19 [==============================] - 0s 13ms/step - loss: 764.3809 - mean_absolute_error: 23.5035 - val_loss: 1327.6222 - val_mean_absolute_error: 30.9871\n",
            "Epoch 24/100\n",
            "19/19 [==============================] - 0s 11ms/step - loss: 763.1984 - mean_absolute_error: 23.4644 - val_loss: 1287.1346 - val_mean_absolute_error: 30.4372\n",
            "Epoch 25/100\n",
            "19/19 [==============================] - 0s 13ms/step - loss: 748.5580 - mean_absolute_error: 23.2573 - val_loss: 1273.9193 - val_mean_absolute_error: 30.2918\n",
            "Epoch 26/100\n",
            "19/19 [==============================] - 0s 10ms/step - loss: 747.7257 - mean_absolute_error: 23.1958 - val_loss: 1495.7955 - val_mean_absolute_error: 33.4378\n",
            "Epoch 27/100\n",
            "19/19 [==============================] - 0s 8ms/step - loss: 733.2269 - mean_absolute_error: 22.9197 - val_loss: 1228.3263 - val_mean_absolute_error: 29.7237\n",
            "Epoch 28/100\n",
            "19/19 [==============================] - 0s 8ms/step - loss: 725.6979 - mean_absolute_error: 22.8810 - val_loss: 1378.4769 - val_mean_absolute_error: 31.8973\n",
            "Epoch 29/100\n",
            "19/19 [==============================] - 0s 8ms/step - loss: 697.9011 - mean_absolute_error: 22.4346 - val_loss: 1242.6555 - val_mean_absolute_error: 30.0432\n",
            "Epoch 30/100\n",
            "19/19 [==============================] - 0s 9ms/step - loss: 674.0399 - mean_absolute_error: 22.0571 - val_loss: 1340.4417 - val_mean_absolute_error: 31.5991\n",
            "Epoch 31/100\n",
            "19/19 [==============================] - 0s 8ms/step - loss: 785.1880 - mean_absolute_error: 23.2118 - val_loss: 1622.8694 - val_mean_absolute_error: 35.1447\n",
            "Epoch 32/100\n",
            "19/19 [==============================] - 0s 9ms/step - loss: 708.7535 - mean_absolute_error: 22.6259 - val_loss: 1090.6095 - val_mean_absolute_error: 27.8572\n",
            "Epoch 33/100\n",
            "19/19 [==============================] - 0s 7ms/step - loss: 676.5431 - mean_absolute_error: 22.1612 - val_loss: 1229.5818 - val_mean_absolute_error: 29.9463\n",
            "Epoch 34/100\n",
            "19/19 [==============================] - 0s 9ms/step - loss: 693.0684 - mean_absolute_error: 22.2469 - val_loss: 1040.6045 - val_mean_absolute_error: 27.1458\n",
            "Epoch 35/100\n",
            "19/19 [==============================] - 0s 8ms/step - loss: 675.1043 - mean_absolute_error: 21.7957 - val_loss: 950.3335 - val_mean_absolute_error: 25.8651\n",
            "Epoch 36/100\n",
            "19/19 [==============================] - 0s 7ms/step - loss: 700.3643 - mean_absolute_error: 22.4026 - val_loss: 1133.0450 - val_mean_absolute_error: 28.5047\n",
            "Epoch 37/100\n",
            "19/19 [==============================] - 0s 7ms/step - loss: 653.6251 - mean_absolute_error: 21.7159 - val_loss: 1024.2112 - val_mean_absolute_error: 26.9480\n",
            "Epoch 38/100\n",
            "19/19 [==============================] - 0s 7ms/step - loss: 646.7704 - mean_absolute_error: 21.4831 - val_loss: 1212.8927 - val_mean_absolute_error: 29.8914\n",
            "Epoch 39/100\n",
            "19/19 [==============================] - 0s 8ms/step - loss: 603.2589 - mean_absolute_error: 20.8247 - val_loss: 880.7199 - val_mean_absolute_error: 24.8802\n",
            "Epoch 40/100\n",
            "19/19 [==============================] - 0s 7ms/step - loss: 624.8463 - mean_absolute_error: 21.1536 - val_loss: 1131.6204 - val_mean_absolute_error: 28.8897\n",
            "Epoch 41/100\n",
            "19/19 [==============================] - 0s 7ms/step - loss: 622.6768 - mean_absolute_error: 21.0824 - val_loss: 881.6782 - val_mean_absolute_error: 24.9289\n",
            "Epoch 42/100\n",
            "19/19 [==============================] - 0s 7ms/step - loss: 562.0703 - mean_absolute_error: 20.2135 - val_loss: 1017.1555 - val_mean_absolute_error: 27.2244\n",
            "Epoch 43/100\n",
            "19/19 [==============================] - 0s 8ms/step - loss: 528.3367 - mean_absolute_error: 19.4430 - val_loss: 793.7530 - val_mean_absolute_error: 23.6249\n",
            "Epoch 44/100\n",
            "19/19 [==============================] - 0s 7ms/step - loss: 529.2983 - mean_absolute_error: 19.3547 - val_loss: 1395.2085 - val_mean_absolute_error: 33.4654\n",
            "Epoch 45/100\n",
            "19/19 [==============================] - 0s 8ms/step - loss: 550.1348 - mean_absolute_error: 19.5053 - val_loss: 987.4603 - val_mean_absolute_error: 27.0727\n",
            "Epoch 46/100\n",
            "19/19 [==============================] - 0s 9ms/step - loss: 471.5259 - mean_absolute_error: 18.3918 - val_loss: 1045.9762 - val_mean_absolute_error: 28.3396\n",
            "Epoch 47/100\n",
            "19/19 [==============================] - 0s 8ms/step - loss: 476.2370 - mean_absolute_error: 18.4399 - val_loss: 1143.1481 - val_mean_absolute_error: 29.6591\n",
            "Epoch 48/100\n",
            "19/19 [==============================] - 0s 8ms/step - loss: 405.6797 - mean_absolute_error: 17.0548 - val_loss: 544.0954 - val_mean_absolute_error: 19.3691\n",
            "Epoch 49/100\n",
            "19/19 [==============================] - 0s 9ms/step - loss: 369.1832 - mean_absolute_error: 16.2722 - val_loss: 862.9594 - val_mean_absolute_error: 25.7459\n",
            "Epoch 50/100\n",
            "19/19 [==============================] - 0s 7ms/step - loss: 318.4185 - mean_absolute_error: 15.0441 - val_loss: 591.0223 - val_mean_absolute_error: 20.5279\n",
            "Epoch 51/100\n",
            "19/19 [==============================] - 0s 6ms/step - loss: 299.2021 - mean_absolute_error: 14.6402 - val_loss: 600.3280 - val_mean_absolute_error: 21.0548\n",
            "Epoch 52/100\n",
            "19/19 [==============================] - 0s 8ms/step - loss: 272.4874 - mean_absolute_error: 13.7033 - val_loss: 414.3025 - val_mean_absolute_error: 16.9468\n",
            "Epoch 53/100\n",
            "19/19 [==============================] - 0s 7ms/step - loss: 222.8632 - mean_absolute_error: 12.5068 - val_loss: 522.0497 - val_mean_absolute_error: 19.7419\n",
            "Epoch 54/100\n",
            "19/19 [==============================] - 0s 7ms/step - loss: 203.2892 - mean_absolute_error: 11.8480 - val_loss: 426.5780 - val_mean_absolute_error: 17.5636\n",
            "Epoch 55/100\n",
            "19/19 [==============================] - 0s 7ms/step - loss: 179.4474 - mean_absolute_error: 11.1714 - val_loss: 380.2746 - val_mean_absolute_error: 16.3800\n",
            "Epoch 56/100\n",
            "19/19 [==============================] - 0s 7ms/step - loss: 201.3503 - mean_absolute_error: 11.5117 - val_loss: 393.0355 - val_mean_absolute_error: 16.9995\n",
            "Epoch 57/100\n",
            "19/19 [==============================] - 0s 6ms/step - loss: 152.8883 - mean_absolute_error: 10.1977 - val_loss: 331.9413 - val_mean_absolute_error: 15.4723\n",
            "Epoch 58/100\n",
            "19/19 [==============================] - 0s 7ms/step - loss: 135.9351 - mean_absolute_error: 9.6436 - val_loss: 444.8244 - val_mean_absolute_error: 19.1386\n",
            "Epoch 59/100\n",
            "19/19 [==============================] - 0s 7ms/step - loss: 137.3588 - mean_absolute_error: 9.6494 - val_loss: 311.3610 - val_mean_absolute_error: 15.5180\n",
            "Epoch 60/100\n",
            "19/19 [==============================] - 0s 8ms/step - loss: 106.9803 - mean_absolute_error: 8.4261 - val_loss: 296.0090 - val_mean_absolute_error: 15.2024\n",
            "Epoch 61/100\n",
            "19/19 [==============================] - 0s 7ms/step - loss: 90.2292 - mean_absolute_error: 7.6968 - val_loss: 140.5786 - val_mean_absolute_error: 9.8124\n",
            "Epoch 62/100\n",
            "19/19 [==============================] - 0s 7ms/step - loss: 91.3178 - mean_absolute_error: 7.8088 - val_loss: 108.1962 - val_mean_absolute_error: 8.6148\n",
            "Epoch 63/100\n",
            "19/19 [==============================] - 0s 7ms/step - loss: 82.5500 - mean_absolute_error: 7.4241 - val_loss: 142.9725 - val_mean_absolute_error: 10.0328\n",
            "Epoch 64/100\n",
            "19/19 [==============================] - 0s 6ms/step - loss: 65.2426 - mean_absolute_error: 6.4178 - val_loss: 82.8497 - val_mean_absolute_error: 7.5263\n",
            "Epoch 65/100\n",
            "19/19 [==============================] - 0s 8ms/step - loss: 64.4810 - mean_absolute_error: 6.4614 - val_loss: 133.0708 - val_mean_absolute_error: 9.8974\n",
            "Epoch 66/100\n",
            "19/19 [==============================] - 0s 7ms/step - loss: 55.6165 - mean_absolute_error: 5.8921 - val_loss: 151.4835 - val_mean_absolute_error: 10.8258\n",
            "Epoch 67/100\n",
            "19/19 [==============================] - 0s 8ms/step - loss: 54.8559 - mean_absolute_error: 5.9645 - val_loss: 88.4541 - val_mean_absolute_error: 7.8783\n",
            "Epoch 68/100\n",
            "19/19 [==============================] - 0s 7ms/step - loss: 52.5731 - mean_absolute_error: 5.9018 - val_loss: 91.1241 - val_mean_absolute_error: 8.1457\n",
            "Epoch 69/100\n",
            "19/19 [==============================] - 0s 7ms/step - loss: 41.5175 - mean_absolute_error: 5.1057 - val_loss: 64.0701 - val_mean_absolute_error: 6.5114\n",
            "Epoch 70/100\n",
            "19/19 [==============================] - 0s 8ms/step - loss: 41.7317 - mean_absolute_error: 5.1678 - val_loss: 61.8078 - val_mean_absolute_error: 6.4467\n",
            "Epoch 71/100\n",
            "19/19 [==============================] - 0s 8ms/step - loss: 42.0930 - mean_absolute_error: 5.1728 - val_loss: 74.7325 - val_mean_absolute_error: 7.4398\n",
            "Epoch 72/100\n",
            "19/19 [==============================] - 0s 8ms/step - loss: 36.1238 - mean_absolute_error: 4.7389 - val_loss: 79.0682 - val_mean_absolute_error: 7.7367\n",
            "Epoch 73/100\n",
            "19/19 [==============================] - 0s 9ms/step - loss: 43.4426 - mean_absolute_error: 5.2017 - val_loss: 39.4918 - val_mean_absolute_error: 4.9482\n",
            "Epoch 74/100\n",
            "19/19 [==============================] - 0s 9ms/step - loss: 34.6933 - mean_absolute_error: 4.7155 - val_loss: 60.2004 - val_mean_absolute_error: 6.6950\n",
            "Epoch 75/100\n",
            "19/19 [==============================] - 0s 8ms/step - loss: 30.8155 - mean_absolute_error: 4.3831 - val_loss: 50.3727 - val_mean_absolute_error: 6.0068\n",
            "Epoch 76/100\n",
            "19/19 [==============================] - 0s 8ms/step - loss: 33.2304 - mean_absolute_error: 4.4728 - val_loss: 33.4971 - val_mean_absolute_error: 4.5093\n",
            "Epoch 77/100\n",
            "19/19 [==============================] - 0s 7ms/step - loss: 32.5916 - mean_absolute_error: 4.5659 - val_loss: 35.8672 - val_mean_absolute_error: 4.7432\n",
            "Epoch 78/100\n",
            "19/19 [==============================] - 0s 7ms/step - loss: 44.4879 - mean_absolute_error: 5.3533 - val_loss: 79.7997 - val_mean_absolute_error: 7.9320\n",
            "Epoch 79/100\n",
            "19/19 [==============================] - 0s 7ms/step - loss: 32.8412 - mean_absolute_error: 4.5399 - val_loss: 65.9405 - val_mean_absolute_error: 7.1400\n",
            "Epoch 80/100\n",
            "19/19 [==============================] - 0s 7ms/step - loss: 29.2616 - mean_absolute_error: 4.2693 - val_loss: 55.9645 - val_mean_absolute_error: 6.5488\n",
            "Epoch 81/100\n",
            "19/19 [==============================] - 0s 7ms/step - loss: 36.5892 - mean_absolute_error: 4.8435 - val_loss: 44.3638 - val_mean_absolute_error: 5.7017\n",
            "Epoch 82/100\n",
            "19/19 [==============================] - 0s 6ms/step - loss: 34.1271 - mean_absolute_error: 4.6352 - val_loss: 57.6598 - val_mean_absolute_error: 6.6689\n",
            "Epoch 83/100\n",
            "19/19 [==============================] - 0s 8ms/step - loss: 36.6697 - mean_absolute_error: 4.8491 - val_loss: 34.4592 - val_mean_absolute_error: 4.7732\n",
            "Epoch 84/100\n",
            "19/19 [==============================] - 0s 6ms/step - loss: 30.4465 - mean_absolute_error: 4.2906 - val_loss: 29.2214 - val_mean_absolute_error: 4.2431\n",
            "Epoch 85/100\n",
            "19/19 [==============================] - 0s 6ms/step - loss: 34.6580 - mean_absolute_error: 4.6519 - val_loss: 86.3216 - val_mean_absolute_error: 8.4000\n",
            "Epoch 86/100\n",
            "19/19 [==============================] - 0s 7ms/step - loss: 38.6734 - mean_absolute_error: 4.9030 - val_loss: 29.8636 - val_mean_absolute_error: 4.3156\n",
            "Epoch 87/100\n",
            "19/19 [==============================] - 0s 7ms/step - loss: 33.6241 - mean_absolute_error: 4.6646 - val_loss: 27.9364 - val_mean_absolute_error: 4.1394\n",
            "Epoch 88/100\n",
            "19/19 [==============================] - 0s 7ms/step - loss: 33.4873 - mean_absolute_error: 4.5434 - val_loss: 54.7649 - val_mean_absolute_error: 6.5128\n",
            "Epoch 89/100\n",
            "19/19 [==============================] - 0s 7ms/step - loss: 30.3236 - mean_absolute_error: 4.3971 - val_loss: 89.7736 - val_mean_absolute_error: 8.6052\n",
            "Epoch 90/100\n",
            "19/19 [==============================] - 0s 7ms/step - loss: 31.2604 - mean_absolute_error: 4.4870 - val_loss: 37.1120 - val_mean_absolute_error: 5.1908\n",
            "Epoch 91/100\n",
            "19/19 [==============================] - 0s 7ms/step - loss: 28.5037 - mean_absolute_error: 4.1998 - val_loss: 23.7547 - val_mean_absolute_error: 3.8139\n",
            "Epoch 92/100\n",
            "19/19 [==============================] - 0s 9ms/step - loss: 36.2324 - mean_absolute_error: 4.7925 - val_loss: 100.1668 - val_mean_absolute_error: 9.1505\n",
            "Epoch 93/100\n",
            "19/19 [==============================] - 0s 11ms/step - loss: 33.0091 - mean_absolute_error: 4.5321 - val_loss: 34.4344 - val_mean_absolute_error: 4.9540\n",
            "Epoch 94/100\n",
            "19/19 [==============================] - 0s 11ms/step - loss: 28.1292 - mean_absolute_error: 4.1672 - val_loss: 38.7781 - val_mean_absolute_error: 5.3728\n",
            "Epoch 95/100\n",
            "19/19 [==============================] - 0s 11ms/step - loss: 27.3148 - mean_absolute_error: 4.1460 - val_loss: 35.9399 - val_mean_absolute_error: 5.1539\n",
            "Epoch 96/100\n",
            "19/19 [==============================] - 0s 10ms/step - loss: 34.8304 - mean_absolute_error: 4.6816 - val_loss: 22.5700 - val_mean_absolute_error: 3.7136\n",
            "Epoch 97/100\n",
            "19/19 [==============================] - 0s 11ms/step - loss: 36.0181 - mean_absolute_error: 4.7131 - val_loss: 58.2711 - val_mean_absolute_error: 6.7774\n",
            "Epoch 98/100\n",
            "19/19 [==============================] - 0s 10ms/step - loss: 31.2152 - mean_absolute_error: 4.4510 - val_loss: 22.7210 - val_mean_absolute_error: 3.7375\n",
            "Epoch 99/100\n",
            "19/19 [==============================] - 0s 11ms/step - loss: 27.1312 - mean_absolute_error: 4.0857 - val_loss: 27.2473 - val_mean_absolute_error: 4.2694\n",
            "Epoch 100/100\n",
            "19/19 [==============================] - 0s 10ms/step - loss: 28.1506 - mean_absolute_error: 4.1330 - val_loss: 43.5884 - val_mean_absolute_error: 5.7812\n"
          ]
        },
        {
          "output_type": "execute_result",
          "data": {
            "text/plain": [
              "<keras.src.callbacks.History at 0x792b81bf5720>"
            ]
          },
          "metadata": {},
          "execution_count": 26
        }
      ]
    },
    {
      "cell_type": "markdown",
      "metadata": {
        "id": "1d1uaA10PG3r"
      },
      "source": [
        "## Visualizations\n"
      ]
    },
    {
      "cell_type": "markdown",
      "source": [
        "###Model 1: Bull/Bear Visuals\n",
        "\n",
        "SPY accuracy bar chart"
      ],
      "metadata": {
        "id": "G1diH4jUTX7o"
      }
    },
    {
      "cell_type": "code",
      "source": [
        "merged_spy.head()"
      ],
      "metadata": {
        "colab": {
          "base_uri": "https://localhost:8080/",
          "height": 330
        },
        "id": "xoT5KvEJTS_u",
        "outputId": "817f64a8-1746-43aa-9869-a70d291f7f34"
      },
      "execution_count": 27,
      "outputs": [
        {
          "output_type": "execute_result",
          "data": {
            "text/plain": [
              "       Open      High       Low     Close  Adj Close   Volume  Close_diff  \\\n",
              "0  43.96875  43.96875  43.75000  43.93750  24.763739  1003200         NaN   \n",
              "1  43.96875  44.25000  43.96875  44.25000  24.939865   480500     0.31250   \n",
              "2  44.21875  44.37500  44.12500  44.34375  24.992712   201300     0.09375   \n",
              "3  44.40625  44.84375  44.37500  44.81250  25.256893   529400     0.46875   \n",
              "4  44.96875  45.09375  44.46875  45.00000  25.362583   531500     0.18750   \n",
              "\n",
              "   Bull/Bear Ticker      Dates  Predicted_Bull_Bear  \n",
              "0          0    SPY 1993-01-29                  NaN  \n",
              "1          1    SPY 1993-02-01                  NaN  \n",
              "2          1    SPY 1993-02-02                  NaN  \n",
              "3          1    SPY 1993-02-03                  NaN  \n",
              "4          1    SPY 1993-02-04                  NaN  "
            ],
            "text/html": [
              "\n",
              "  <div id=\"df-57ff75f1-a85b-46c0-9141-fbc3a0e3e7c7\" class=\"colab-df-container\">\n",
              "    <div>\n",
              "<style scoped>\n",
              "    .dataframe tbody tr th:only-of-type {\n",
              "        vertical-align: middle;\n",
              "    }\n",
              "\n",
              "    .dataframe tbody tr th {\n",
              "        vertical-align: top;\n",
              "    }\n",
              "\n",
              "    .dataframe thead th {\n",
              "        text-align: right;\n",
              "    }\n",
              "</style>\n",
              "<table border=\"1\" class=\"dataframe\">\n",
              "  <thead>\n",
              "    <tr style=\"text-align: right;\">\n",
              "      <th></th>\n",
              "      <th>Open</th>\n",
              "      <th>High</th>\n",
              "      <th>Low</th>\n",
              "      <th>Close</th>\n",
              "      <th>Adj Close</th>\n",
              "      <th>Volume</th>\n",
              "      <th>Close_diff</th>\n",
              "      <th>Bull/Bear</th>\n",
              "      <th>Ticker</th>\n",
              "      <th>Dates</th>\n",
              "      <th>Predicted_Bull_Bear</th>\n",
              "    </tr>\n",
              "  </thead>\n",
              "  <tbody>\n",
              "    <tr>\n",
              "      <th>0</th>\n",
              "      <td>43.96875</td>\n",
              "      <td>43.96875</td>\n",
              "      <td>43.75000</td>\n",
              "      <td>43.93750</td>\n",
              "      <td>24.763739</td>\n",
              "      <td>1003200</td>\n",
              "      <td>NaN</td>\n",
              "      <td>0</td>\n",
              "      <td>SPY</td>\n",
              "      <td>1993-01-29</td>\n",
              "      <td>NaN</td>\n",
              "    </tr>\n",
              "    <tr>\n",
              "      <th>1</th>\n",
              "      <td>43.96875</td>\n",
              "      <td>44.25000</td>\n",
              "      <td>43.96875</td>\n",
              "      <td>44.25000</td>\n",
              "      <td>24.939865</td>\n",
              "      <td>480500</td>\n",
              "      <td>0.31250</td>\n",
              "      <td>1</td>\n",
              "      <td>SPY</td>\n",
              "      <td>1993-02-01</td>\n",
              "      <td>NaN</td>\n",
              "    </tr>\n",
              "    <tr>\n",
              "      <th>2</th>\n",
              "      <td>44.21875</td>\n",
              "      <td>44.37500</td>\n",
              "      <td>44.12500</td>\n",
              "      <td>44.34375</td>\n",
              "      <td>24.992712</td>\n",
              "      <td>201300</td>\n",
              "      <td>0.09375</td>\n",
              "      <td>1</td>\n",
              "      <td>SPY</td>\n",
              "      <td>1993-02-02</td>\n",
              "      <td>NaN</td>\n",
              "    </tr>\n",
              "    <tr>\n",
              "      <th>3</th>\n",
              "      <td>44.40625</td>\n",
              "      <td>44.84375</td>\n",
              "      <td>44.37500</td>\n",
              "      <td>44.81250</td>\n",
              "      <td>25.256893</td>\n",
              "      <td>529400</td>\n",
              "      <td>0.46875</td>\n",
              "      <td>1</td>\n",
              "      <td>SPY</td>\n",
              "      <td>1993-02-03</td>\n",
              "      <td>NaN</td>\n",
              "    </tr>\n",
              "    <tr>\n",
              "      <th>4</th>\n",
              "      <td>44.96875</td>\n",
              "      <td>45.09375</td>\n",
              "      <td>44.46875</td>\n",
              "      <td>45.00000</td>\n",
              "      <td>25.362583</td>\n",
              "      <td>531500</td>\n",
              "      <td>0.18750</td>\n",
              "      <td>1</td>\n",
              "      <td>SPY</td>\n",
              "      <td>1993-02-04</td>\n",
              "      <td>NaN</td>\n",
              "    </tr>\n",
              "  </tbody>\n",
              "</table>\n",
              "</div>\n",
              "    <div class=\"colab-df-buttons\">\n",
              "\n",
              "  <div class=\"colab-df-container\">\n",
              "    <button class=\"colab-df-convert\" onclick=\"convertToInteractive('df-57ff75f1-a85b-46c0-9141-fbc3a0e3e7c7')\"\n",
              "            title=\"Convert this dataframe to an interactive table.\"\n",
              "            style=\"display:none;\">\n",
              "\n",
              "  <svg xmlns=\"http://www.w3.org/2000/svg\" height=\"24px\" viewBox=\"0 -960 960 960\">\n",
              "    <path d=\"M120-120v-720h720v720H120Zm60-500h600v-160H180v160Zm220 220h160v-160H400v160Zm0 220h160v-160H400v160ZM180-400h160v-160H180v160Zm440 0h160v-160H620v160ZM180-180h160v-160H180v160Zm440 0h160v-160H620v160Z\"/>\n",
              "  </svg>\n",
              "    </button>\n",
              "\n",
              "  <style>\n",
              "    .colab-df-container {\n",
              "      display:flex;\n",
              "      gap: 12px;\n",
              "    }\n",
              "\n",
              "    .colab-df-convert {\n",
              "      background-color: #E8F0FE;\n",
              "      border: none;\n",
              "      border-radius: 50%;\n",
              "      cursor: pointer;\n",
              "      display: none;\n",
              "      fill: #1967D2;\n",
              "      height: 32px;\n",
              "      padding: 0 0 0 0;\n",
              "      width: 32px;\n",
              "    }\n",
              "\n",
              "    .colab-df-convert:hover {\n",
              "      background-color: #E2EBFA;\n",
              "      box-shadow: 0px 1px 2px rgba(60, 64, 67, 0.3), 0px 1px 3px 1px rgba(60, 64, 67, 0.15);\n",
              "      fill: #174EA6;\n",
              "    }\n",
              "\n",
              "    .colab-df-buttons div {\n",
              "      margin-bottom: 4px;\n",
              "    }\n",
              "\n",
              "    [theme=dark] .colab-df-convert {\n",
              "      background-color: #3B4455;\n",
              "      fill: #D2E3FC;\n",
              "    }\n",
              "\n",
              "    [theme=dark] .colab-df-convert:hover {\n",
              "      background-color: #434B5C;\n",
              "      box-shadow: 0px 1px 3px 1px rgba(0, 0, 0, 0.15);\n",
              "      filter: drop-shadow(0px 1px 2px rgba(0, 0, 0, 0.3));\n",
              "      fill: #FFFFFF;\n",
              "    }\n",
              "  </style>\n",
              "\n",
              "    <script>\n",
              "      const buttonEl =\n",
              "        document.querySelector('#df-57ff75f1-a85b-46c0-9141-fbc3a0e3e7c7 button.colab-df-convert');\n",
              "      buttonEl.style.display =\n",
              "        google.colab.kernel.accessAllowed ? 'block' : 'none';\n",
              "\n",
              "      async function convertToInteractive(key) {\n",
              "        const element = document.querySelector('#df-57ff75f1-a85b-46c0-9141-fbc3a0e3e7c7');\n",
              "        const dataTable =\n",
              "          await google.colab.kernel.invokeFunction('convertToInteractive',\n",
              "                                                    [key], {});\n",
              "        if (!dataTable) return;\n",
              "\n",
              "        const docLinkHtml = 'Like what you see? Visit the ' +\n",
              "          '<a target=\"_blank\" href=https://colab.research.google.com/notebooks/data_table.ipynb>data table notebook</a>'\n",
              "          + ' to learn more about interactive tables.';\n",
              "        element.innerHTML = '';\n",
              "        dataTable['output_type'] = 'display_data';\n",
              "        await google.colab.output.renderOutput(dataTable, element);\n",
              "        const docLink = document.createElement('div');\n",
              "        docLink.innerHTML = docLinkHtml;\n",
              "        element.appendChild(docLink);\n",
              "      }\n",
              "    </script>\n",
              "  </div>\n",
              "\n",
              "\n",
              "<div id=\"df-035e4e9d-5ec7-433f-93e5-af13f55f574b\">\n",
              "  <button class=\"colab-df-quickchart\" onclick=\"quickchart('df-035e4e9d-5ec7-433f-93e5-af13f55f574b')\"\n",
              "            title=\"Suggest charts\"\n",
              "            style=\"display:none;\">\n",
              "\n",
              "<svg xmlns=\"http://www.w3.org/2000/svg\" height=\"24px\"viewBox=\"0 0 24 24\"\n",
              "     width=\"24px\">\n",
              "    <g>\n",
              "        <path d=\"M19 3H5c-1.1 0-2 .9-2 2v14c0 1.1.9 2 2 2h14c1.1 0 2-.9 2-2V5c0-1.1-.9-2-2-2zM9 17H7v-7h2v7zm4 0h-2V7h2v10zm4 0h-2v-4h2v4z\"/>\n",
              "    </g>\n",
              "</svg>\n",
              "  </button>\n",
              "\n",
              "<style>\n",
              "  .colab-df-quickchart {\n",
              "      --bg-color: #E8F0FE;\n",
              "      --fill-color: #1967D2;\n",
              "      --hover-bg-color: #E2EBFA;\n",
              "      --hover-fill-color: #174EA6;\n",
              "      --disabled-fill-color: #AAA;\n",
              "      --disabled-bg-color: #DDD;\n",
              "  }\n",
              "\n",
              "  [theme=dark] .colab-df-quickchart {\n",
              "      --bg-color: #3B4455;\n",
              "      --fill-color: #D2E3FC;\n",
              "      --hover-bg-color: #434B5C;\n",
              "      --hover-fill-color: #FFFFFF;\n",
              "      --disabled-bg-color: #3B4455;\n",
              "      --disabled-fill-color: #666;\n",
              "  }\n",
              "\n",
              "  .colab-df-quickchart {\n",
              "    background-color: var(--bg-color);\n",
              "    border: none;\n",
              "    border-radius: 50%;\n",
              "    cursor: pointer;\n",
              "    display: none;\n",
              "    fill: var(--fill-color);\n",
              "    height: 32px;\n",
              "    padding: 0;\n",
              "    width: 32px;\n",
              "  }\n",
              "\n",
              "  .colab-df-quickchart:hover {\n",
              "    background-color: var(--hover-bg-color);\n",
              "    box-shadow: 0 1px 2px rgba(60, 64, 67, 0.3), 0 1px 3px 1px rgba(60, 64, 67, 0.15);\n",
              "    fill: var(--button-hover-fill-color);\n",
              "  }\n",
              "\n",
              "  .colab-df-quickchart-complete:disabled,\n",
              "  .colab-df-quickchart-complete:disabled:hover {\n",
              "    background-color: var(--disabled-bg-color);\n",
              "    fill: var(--disabled-fill-color);\n",
              "    box-shadow: none;\n",
              "  }\n",
              "\n",
              "  .colab-df-spinner {\n",
              "    border: 2px solid var(--fill-color);\n",
              "    border-color: transparent;\n",
              "    border-bottom-color: var(--fill-color);\n",
              "    animation:\n",
              "      spin 1s steps(1) infinite;\n",
              "  }\n",
              "\n",
              "  @keyframes spin {\n",
              "    0% {\n",
              "      border-color: transparent;\n",
              "      border-bottom-color: var(--fill-color);\n",
              "      border-left-color: var(--fill-color);\n",
              "    }\n",
              "    20% {\n",
              "      border-color: transparent;\n",
              "      border-left-color: var(--fill-color);\n",
              "      border-top-color: var(--fill-color);\n",
              "    }\n",
              "    30% {\n",
              "      border-color: transparent;\n",
              "      border-left-color: var(--fill-color);\n",
              "      border-top-color: var(--fill-color);\n",
              "      border-right-color: var(--fill-color);\n",
              "    }\n",
              "    40% {\n",
              "      border-color: transparent;\n",
              "      border-right-color: var(--fill-color);\n",
              "      border-top-color: var(--fill-color);\n",
              "    }\n",
              "    60% {\n",
              "      border-color: transparent;\n",
              "      border-right-color: var(--fill-color);\n",
              "    }\n",
              "    80% {\n",
              "      border-color: transparent;\n",
              "      border-right-color: var(--fill-color);\n",
              "      border-bottom-color: var(--fill-color);\n",
              "    }\n",
              "    90% {\n",
              "      border-color: transparent;\n",
              "      border-bottom-color: var(--fill-color);\n",
              "    }\n",
              "  }\n",
              "</style>\n",
              "\n",
              "  <script>\n",
              "    async function quickchart(key) {\n",
              "      const quickchartButtonEl =\n",
              "        document.querySelector('#' + key + ' button');\n",
              "      quickchartButtonEl.disabled = true;  // To prevent multiple clicks.\n",
              "      quickchartButtonEl.classList.add('colab-df-spinner');\n",
              "      try {\n",
              "        const charts = await google.colab.kernel.invokeFunction(\n",
              "            'suggestCharts', [key], {});\n",
              "      } catch (error) {\n",
              "        console.error('Error during call to suggestCharts:', error);\n",
              "      }\n",
              "      quickchartButtonEl.classList.remove('colab-df-spinner');\n",
              "      quickchartButtonEl.classList.add('colab-df-quickchart-complete');\n",
              "    }\n",
              "    (() => {\n",
              "      let quickchartButtonEl =\n",
              "        document.querySelector('#df-035e4e9d-5ec7-433f-93e5-af13f55f574b button');\n",
              "      quickchartButtonEl.style.display =\n",
              "        google.colab.kernel.accessAllowed ? 'block' : 'none';\n",
              "    })();\n",
              "  </script>\n",
              "</div>\n",
              "    </div>\n",
              "  </div>\n"
            ],
            "application/vnd.google.colaboratory.intrinsic+json": {
              "type": "dataframe",
              "variable_name": "merged_spy",
              "summary": "{\n  \"name\": \"merged_spy\",\n  \"rows\": 7878,\n  \"fields\": [\n    {\n      \"column\": \"Open\",\n      \"properties\": {\n        \"dtype\": \"number\",\n        \"std\": 111.86087570305959,\n        \"min\": 43.34375,\n        \"max\": 523.8300170898438,\n        \"num_unique_values\": 6410,\n        \"samples\": [\n          263.3699951171875,\n          128.0625,\n          256.6000061035156\n        ],\n        \"semantic_type\": \"\",\n        \"description\": \"\"\n      }\n    },\n    {\n      \"column\": \"High\",\n      \"properties\": {\n        \"dtype\": \"number\",\n        \"std\": 112.43406733953076,\n        \"min\": 43.53125,\n        \"max\": 524.6099853515625,\n        \"num_unique_values\": 6441,\n        \"samples\": [\n          411.92999267578125,\n          92.22000122070312,\n          141.60000610351562\n        ],\n        \"semantic_type\": \"\",\n        \"description\": \"\"\n      }\n    },\n    {\n      \"column\": \"Low\",\n      \"properties\": {\n        \"dtype\": \"number\",\n        \"std\": 111.24860301231894,\n        \"min\": 42.8125,\n        \"max\": 522.780029296875,\n        \"num_unique_values\": 6410,\n        \"samples\": [\n          271.2099914550781,\n          121.515625,\n          253.97999572753906\n        ],\n        \"semantic_type\": \"\",\n        \"description\": \"\"\n      }\n    },\n    {\n      \"column\": \"Close\",\n      \"properties\": {\n        \"dtype\": \"number\",\n        \"std\": 111.88810723589943,\n        \"min\": 43.40625,\n        \"max\": 523.1699829101562,\n        \"num_unique_values\": 6451,\n        \"samples\": [\n          107.22000122070312,\n          265.92999267578125,\n          243.36000061035156\n        ],\n        \"semantic_type\": \"\",\n        \"description\": \"\"\n      }\n    },\n    {\n      \"column\": \"Adj Close\",\n      \"properties\": {\n        \"dtype\": \"number\",\n        \"std\": 117.9601034279241,\n        \"min\": 24.464309692382812,\n        \"max\": 523.1699829101562,\n        \"num_unique_values\": 7449,\n        \"samples\": [\n          79.74227905273438,\n          262.50482177734375,\n          75.69931030273438\n        ],\n        \"semantic_type\": \"\",\n        \"description\": \"\"\n      }\n    },\n    {\n      \"column\": \"Volume\",\n      \"properties\": {\n        \"dtype\": \"number\",\n        \"std\": 91823956,\n        \"min\": 5200,\n        \"max\": 871026300,\n        \"num_unique_values\": 7803,\n        \"samples\": [\n          19470200,\n          15666800,\n          147913000\n        ],\n        \"semantic_type\": \"\",\n        \"description\": \"\"\n      }\n    },\n    {\n      \"column\": \"Close_diff\",\n      \"properties\": {\n        \"dtype\": \"number\",\n        \"std\": 2.284652781573432,\n        \"min\": -29.470001220703125,\n        \"max\": 21.210006713867188,\n        \"num_unique_values\": 2485,\n        \"samples\": [\n          -5.2299957275390625,\n          -1.4799957275390625,\n          -8.790008544921875\n        ],\n        \"semantic_type\": \"\",\n        \"description\": \"\"\n      }\n    },\n    {\n      \"column\": \"Bull/Bear\",\n      \"properties\": {\n        \"dtype\": \"number\",\n        \"std\": 0,\n        \"min\": 0,\n        \"max\": 1,\n        \"num_unique_values\": 2,\n        \"samples\": [\n          1,\n          0\n        ],\n        \"semantic_type\": \"\",\n        \"description\": \"\"\n      }\n    },\n    {\n      \"column\": \"Ticker\",\n      \"properties\": {\n        \"dtype\": \"category\",\n        \"num_unique_values\": 1,\n        \"samples\": [\n          \"SPY\"\n        ],\n        \"semantic_type\": \"\",\n        \"description\": \"\"\n      }\n    },\n    {\n      \"column\": \"Dates\",\n      \"properties\": {\n        \"dtype\": \"date\",\n        \"min\": \"1993-01-29 00:00:00\",\n        \"max\": \"2024-05-13 00:00:00\",\n        \"num_unique_values\": 7878,\n        \"samples\": [\n          \"1998-08-18 00:00:00\"\n        ],\n        \"semantic_type\": \"\",\n        \"description\": \"\"\n      }\n    },\n    {\n      \"column\": \"Predicted_Bull_Bear\",\n      \"properties\": {\n        \"dtype\": \"number\",\n        \"std\": 0.4967382125677407,\n        \"min\": 0.0,\n        \"max\": 1.0,\n        \"num_unique_values\": 2,\n        \"samples\": [\n          0.0\n        ],\n        \"semantic_type\": \"\",\n        \"description\": \"\"\n      }\n    }\n  ]\n}"
            }
          },
          "metadata": {},
          "execution_count": 27
        }
      ]
    },
    {
      "cell_type": "code",
      "source": [
        "def proportion_graph(df):\n",
        "\n",
        "  # Calculate the proportions of each category for both actual and predicted values\n",
        "  bull_bear_proportions = df['Bull/Bear'].value_counts(normalize=True).sort_index()\n",
        "  predicted_proportions = df['Predicted_Bull_Bear'].value_counts(normalize=True).sort_index()\n",
        "\n",
        "  # Plotting the grouped bar chart\n",
        "  labels = ['Bear', 'Bull']\n",
        "  x = np.arange(len(labels))  # the label locations\n",
        "  width = 0.35  # the width of the bars\n",
        "\n",
        "  fig, ax = plt.subplots()\n",
        "  rects1 = ax.bar(x - width/2, bull_bear_proportions, width, label='Actual Bull/Bear')\n",
        "  rects2 = ax.bar(x + width/2, predicted_proportions, width, label='Predicted Bull/Bear')\n",
        "\n",
        "  # Add labels, title, and legend\n",
        "  ax.set_xlabel('Category')\n",
        "  ax.set_ylabel('Proportion')\n",
        "  ax.set_title('Comparison of Actual and Predicted Bull/Bear')\n",
        "  ax.set_xticks(x)\n",
        "  ax.set_xticklabels(labels)\n",
        "  ax.legend()\n",
        "\n",
        "  plt.show()"
      ],
      "metadata": {
        "id": "ljo6K6YZ3_K-"
      },
      "execution_count": 28,
      "outputs": []
    },
    {
      "cell_type": "code",
      "source": [
        "proportion_graph(merged_spy)"
      ],
      "metadata": {
        "colab": {
          "base_uri": "https://localhost:8080/",
          "height": 472
        },
        "id": "WyAC6wG061fR",
        "outputId": "c130b3cd-39d7-42f0-8b40-62acfdec3f17"
      },
      "execution_count": 29,
      "outputs": [
        {
          "output_type": "display_data",
          "data": {
            "text/plain": [
              "<Figure size 640x480 with 1 Axes>"
            ],
            "image/png": "[encoded data removed]"
          },
          "metadata": {}
        }
      ]
    },
    {
      "cell_type": "markdown",
      "source": [
        "###Model 2: Price Prediction\n",
        "\n",
        "* Training Predictions vs. Observations:\n",
        "\n",
        "  *   Plots the model's predictions and the actual observed values for the training dataset.\n",
        "  *   Helps visualize how well the model fits the training data.\n",
        "\n",
        "* Validation Predictions vs. Observations:\n",
        "\n",
        "  * Displays the model's predictions and the actual observed values for the validation dataset.\n",
        "  * Aids in understanding the model's generalization performance on unseen\n",
        "  \n",
        "* Testing Predictions vs. Observations:\n",
        "\n",
        "  * Shows the model's predictions and the actual observed values for the testing dataset.\n",
        "  * Assists in assessing the model's predictive accuracy on completely new, unseen data (testing set).\n",
        "\n",
        "* Combined Plot:\n",
        "\n",
        "  * Combines the training, validation, and testing predictions and observations into a single plot.\n",
        "  * Offers a comparative view of how well the model performs across different datasets."
      ],
      "metadata": {
        "id": "24Hoh4yTV8rL"
      }
    },
    {
      "cell_type": "markdown",
      "source": [
        "####SPY ETF History Chart: 1993 to Present Day"
      ],
      "metadata": {
        "id": "Q55f56QvXbyr"
      }
    },
    {
      "cell_type": "code",
      "source": [
        "# Closing prices of SPY ETF from 1993 to present day\n",
        "plt.plot(merged_spy['Dates'], merged_spy['Close'])\n",
        "plt.xlabel('Date')\n",
        "plt.ylabel('Closing Price')\n",
        "plt.title('SPY ETF Closing Price Over Time')\n",
        "plt.show()"
      ],
      "metadata": {
        "colab": {
          "base_uri": "https://localhost:8080/",
          "height": 472
        },
        "id": "g-GNQAEQBLkn",
        "outputId": "65d2537b-b040-483d-8fbc-9261b1b1551e"
      },
      "execution_count": 30,
      "outputs": [
        {
          "output_type": "display_data",
          "data": {
            "text/plain": [
              "<Figure size 640x480 with 1 Axes>"
            ],
            "image/png": "[encoded data removed]"
          },
          "metadata": {}
        }
      ]
    },
    {
      "cell_type": "markdown",
      "source": [
        "####Train, Validation, and Test Split Graph\n",
        "\n",
        "* Training Data: 80%\n",
        "* Validation Data: 10%\n",
        "* Testing Data: 10%\n"
      ],
      "metadata": {
        "id": "_H351rraXKUq"
      }
    },
    {
      "cell_type": "code",
      "source": [
        "plt.plot(dates_train, y_train)\n",
        "plt.plot(dates_val, y_val)\n",
        "plt.plot(dates_test, y_test)\n",
        "\n",
        "plt.legend(['Train', 'Validation', 'Test'])"
      ],
      "metadata": {
        "colab": {
          "base_uri": "https://localhost:8080/",
          "height": 447
        },
        "id": "6KdNvs1iWQq4",
        "outputId": "3528e07f-0a45-4a05-d36c-e75306ad953e"
      },
      "execution_count": 31,
      "outputs": [
        {
          "output_type": "execute_result",
          "data": {
            "text/plain": [
              "<matplotlib.legend.Legend at 0x792b78d2a6e0>"
            ]
          },
          "metadata": {},
          "execution_count": 31
        },
        {
          "output_type": "display_data",
          "data": {
            "text/plain": [
              "<Figure size 640x480 with 1 Axes>"
            ],
            "image/png": "[encoded data removed]"
          },
          "metadata": {}
        }
      ]
    },
    {
      "cell_type": "markdown",
      "source": [
        "####Training Predictions vs. Observations"
      ],
      "metadata": {
        "id": "-CcTm0I-Xg7y"
      }
    },
    {
      "cell_type": "code",
      "source": [
        "train_predictions = model.predict(X_train).flatten()\n",
        "\n",
        "plt.plot(dates_train, train_predictions)\n",
        "plt.plot(dates_train, y_train)\n",
        "plt.legend(['Training Predictions', 'Training Observations'])"
      ],
      "metadata": {
        "colab": {
          "base_uri": "https://localhost:8080/",
          "height": 465
        },
        "id": "SwHM3LwDXvkB",
        "outputId": "19df6e0e-3e0e-4915-bb34-6d95a235886b"
      },
      "execution_count": 32,
      "outputs": [
        {
          "output_type": "stream",
          "name": "stdout",
          "text": [
            "19/19 [==============================] - 1s 2ms/step\n"
          ]
        },
        {
          "output_type": "execute_result",
          "data": {
            "text/plain": [
              "<matplotlib.legend.Legend at 0x792b78b6bca0>"
            ]
          },
          "metadata": {},
          "execution_count": 32
        },
        {
          "output_type": "display_data",
          "data": {
            "text/plain": [
              "<Figure size 640x480 with 1 Axes>"
            ],
            "image/png": "[encoded data removed]"
          },
          "metadata": {}
        }
      ]
    },
    {
      "cell_type": "markdown",
      "source": [
        "####Validation Predictions vs. Observations"
      ],
      "metadata": {
        "id": "OSNx8h4PXkpl"
      }
    },
    {
      "cell_type": "code",
      "source": [
        "val_predictions = model.predict(X_val).flatten()\n",
        "\n",
        "plt.plot(dates_val, val_predictions)\n",
        "plt.plot(dates_val, y_val)\n",
        "plt.legend(['Validation Predictions', 'Validation Observations'])"
      ],
      "metadata": {
        "colab": {
          "base_uri": "https://localhost:8080/",
          "height": 465
        },
        "id": "0vWNVFntXwN-",
        "outputId": "036d87e4-d27e-4e35-ba3d-f4ec9877807f"
      },
      "execution_count": 33,
      "outputs": [
        {
          "output_type": "stream",
          "name": "stdout",
          "text": [
            "3/3 [==============================] - 0s 4ms/step\n"
          ]
        },
        {
          "output_type": "execute_result",
          "data": {
            "text/plain": [
              "<matplotlib.legend.Legend at 0x792b78cc9ed0>"
            ]
          },
          "metadata": {},
          "execution_count": 33
        },
        {
          "output_type": "display_data",
          "data": {
            "text/plain": [
              "<Figure size 640x480 with 1 Axes>"
            ],
            "image/png": "[encoded data removed]"
          },
          "metadata": {}
        }
      ]
    },
    {
      "cell_type": "markdown",
      "source": [
        "####Testing Predictions vs. Observations"
      ],
      "metadata": {
        "id": "HRXXF_gjXrPZ"
      }
    },
    {
      "cell_type": "code",
      "source": [
        "test_predictions = model.predict(X_test).flatten()\n",
        "\n",
        "plt.plot(dates_test, test_predictions)\n",
        "plt.plot(dates_test, y_test)\n",
        "plt.legend(['Testing Predictions', 'Testing Observations'])"
      ],
      "metadata": {
        "colab": {
          "base_uri": "https://localhost:8080/",
          "height": 465
        },
        "id": "kQCKKNIeXwtg",
        "outputId": "c96bfd5a-3fa9-46c7-aaff-382c4b3d2c7f"
      },
      "execution_count": 34,
      "outputs": [
        {
          "output_type": "stream",
          "name": "stdout",
          "text": [
            "3/3 [==============================] - 0s 4ms/step\n"
          ]
        },
        {
          "output_type": "execute_result",
          "data": {
            "text/plain": [
              "<matplotlib.legend.Legend at 0x792b78acf760>"
            ]
          },
          "metadata": {},
          "execution_count": 34
        },
        {
          "output_type": "display_data",
          "data": {
            "text/plain": [
              "<Figure size 640x480 with 1 Axes>"
            ],
            "image/png": "[encoded data removed]"
          },
          "metadata": {}
        }
      ]
    },
    {
      "cell_type": "markdown",
      "source": [
        "####Combined Plot"
      ],
      "metadata": {
        "id": "v7MDVGI9Xzr0"
      }
    },
    {
      "cell_type": "code",
      "source": [
        "plt.plot(dates_train, train_predictions)\n",
        "plt.plot(dates_train, y_train)\n",
        "plt.plot(dates_val, val_predictions)\n",
        "plt.plot(dates_val, y_val)\n",
        "plt.plot(dates_test, test_predictions)\n",
        "plt.plot(dates_test, y_test)\n",
        "plt.legend(['Training Predictions',\n",
        "            'Training Observations',\n",
        "            'Validation Predictions',\n",
        "            'Validation Observations',\n",
        "            'Testing Predictions',\n",
        "            'Testing Observations'])"
      ],
      "metadata": {
        "colab": {
          "base_uri": "https://localhost:8080/",
          "height": 447
        },
        "id": "VRpHyPktX2Wu",
        "outputId": "b4c568fb-e3cd-44dd-d7c7-a1c93764e2e5"
      },
      "execution_count": 35,
      "outputs": [
        {
          "output_type": "execute_result",
          "data": {
            "text/plain": [
              "<matplotlib.legend.Legend at 0x792b78922da0>"
            ]
          },
          "metadata": {},
          "execution_count": 35
        },
        {
          "output_type": "display_data",
          "data": {
            "text/plain": [
              "<Figure size 640x480 with 1 Axes>"
            ],
            "image/png": "[encoded data removed]"
          },
          "metadata": {}
        }
      ]
    }
  ],
  "metadata": {
    "colab": {
      "provenance": [],
      "collapsed_sections": [
        "i6dCvaW3eTbJ"
      ],
      "authorship_tag": "ABX9TyPLQSPbrAbcFgJNsk/Cl4it",
      "include_colab_link": true
    },
    "kernelspec": {
      "display_name": "Python 3",
      "name": "python3"
    },
    "language_info": {
      "name": "python"
    }
  },
  "nbformat": 4,
  "nbformat_minor": 0
}